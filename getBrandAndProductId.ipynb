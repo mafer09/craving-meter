{
  "cells": [
    {
      "cell_type": "markdown",
      "metadata": {
        "id": "view-in-github",
        "colab_type": "text"
      },
      "source": [
        "<a href=\"https://colab.research.google.com/github/mafer09/craving-meter/blob/main/getBrandAndProductId.ipynb\" target=\"_parent\"><img src=\"https://colab.research.google.com/assets/colab-badge.svg\" alt=\"Open In Colab\"/></a>"
      ]
    },
    {
      "cell_type": "code",
      "source": [
        "# !pip install PyDrive"
      ],
      "metadata": {
        "id": "bcfoEbdZnJG7"
      },
      "execution_count": null,
      "outputs": []
    },
    {
      "cell_type": "code",
      "execution_count": 1,
      "metadata": {
        "colab": {
          "base_uri": "https://localhost:8080/"
        },
        "id": "zrfOHchOtdYB",
        "outputId": "13252622-fcd9-4c4f-f506-b3feff1cb138"
      },
      "outputs": [
        {
          "output_type": "stream",
          "name": "stdout",
          "text": [
            "Mounted at /content/gdrive\n"
          ]
        }
      ],
      "source": [
        "import json\n",
        "from google.colab import drive\n",
        "drive.mount('/content/gdrive')"
      ]
    },
    {
      "cell_type": "code",
      "source": [
        "from pydrive.auth import GoogleAuth\n",
        "from pydrive.drive import GoogleDrive\n",
        "from google.colab import auth\n",
        "from oauth2client.client import GoogleCredentials\n",
        "\n",
        "auth.authenticate_user()\n",
        "gauth = GoogleAuth()\n",
        "gauth.credentials = GoogleCredentials.get_application_default()\n",
        "drive = GoogleDrive(gauth)"
      ],
      "metadata": {
        "id": "nhcO0uAbnImF"
      },
      "execution_count": 2,
      "outputs": []
    },
    {
      "cell_type": "code",
      "source": [
        "file_list = drive.ListFile({'q': \"'root' in parents and trashed=false\"}).GetList()\n",
        "for file1 in file_list:\n",
        "  print('title: %s, id: %s' % (file1['title'], file1['id']))"
      ],
      "metadata": {
        "colab": {
          "base_uri": "https://localhost:8080/"
        },
        "id": "c4js-byyqnwK",
        "outputId": "7b79f1f3-0318-41ac-c7bd-c1731f92a3c4"
      },
      "execution_count": 3,
      "outputs": [
        {
          "output_type": "stream",
          "name": "stdout",
          "text": [
            "title: BUSI722, id: 15z6tjEPhpkgFVVARYkoXytTg4WzEWBVI\n",
            "title: COMP631-CravingMeter, id: 1nmZy8OaWNY1d2ASCqTD1OxVWx7rg0ubb\n",
            "title: Assignment1_Question3.ipynb, id: 1TXmmWMDwnVFgXrhGEUoP-r8tLnkrgeBT\n",
            "title: COMP642, id: 1cS87m1E62gwCgNaQeSPnWyNgZveWWedm\n",
            "title: Datathon2022, id: 1znLaUTuOUa7SHTtH2__pEEP0aroAulqD\n"
          ]
        }
      ]
    },
    {
      "cell_type": "code",
      "source": [
        "file_list"
      ],
      "metadata": {
        "colab": {
          "base_uri": "https://localhost:8080/"
        },
        "id": "0rZZt2uYpnn-",
        "outputId": "56364be1-a0ca-4478-8f0c-be634112730c"
      },
      "execution_count": 4,
      "outputs": [
        {
          "output_type": "execute_result",
          "data": {
            "text/plain": [
              "[GoogleDriveFile({'kind': 'drive#file', 'id': '15z6tjEPhpkgFVVARYkoXytTg4WzEWBVI', 'etag': '\"MTY0NTEzMTYwNzE4Mg\"', 'selfLink': 'https://www.googleapis.com/drive/v2/files/15z6tjEPhpkgFVVARYkoXytTg4WzEWBVI', 'alternateLink': 'https://drive.google.com/drive/folders/15z6tjEPhpkgFVVARYkoXytTg4WzEWBVI', 'embedLink': 'https://drive.google.com/embeddedfolderview?id=15z6tjEPhpkgFVVARYkoXytTg4WzEWBVI', 'iconLink': 'https://drive-thirdparty.googleusercontent.com/16/type/application/vnd.google-apps.folder', 'title': 'BUSI722', 'mimeType': 'application/vnd.google-apps.folder', 'labels': {'starred': False, 'hidden': False, 'trashed': False, 'restricted': False, 'viewed': True}, 'copyRequiresWriterPermission': False, 'createdDate': '2022-02-17T21:00:07.182Z', 'modifiedDate': '2022-02-17T21:00:07.182Z', 'modifiedByMeDate': '2022-02-17T21:00:07.182Z', 'lastViewedByMeDate': '2022-02-19T01:48:58.609Z', 'markedViewedByMeDate': '1970-01-01T00:00:00.000Z', 'version': '4', 'parents': [{'kind': 'drive#parentReference', 'id': '0ALwnWhx2GG_uUk9PVA', 'selfLink': 'https://www.googleapis.com/drive/v2/files/15z6tjEPhpkgFVVARYkoXytTg4WzEWBVI/parents/0ALwnWhx2GG_uUk9PVA', 'parentLink': 'https://www.googleapis.com/drive/v2/files/0ALwnWhx2GG_uUk9PVA', 'isRoot': True}], 'userPermission': {'kind': 'drive#permission', 'etag': '\"ub9F5CH7HTHR0wizsJqduNjLIvw\"', 'id': 'me', 'selfLink': 'https://www.googleapis.com/drive/v2/files/15z6tjEPhpkgFVVARYkoXytTg4WzEWBVI/permissions/me', 'role': 'owner', 'type': 'user', 'pendingOwner': False}, 'quotaBytesUsed': '0', 'ownerNames': ['Maria Briceno Rojas'], 'owners': [{'kind': 'drive#user', 'displayName': 'Maria Briceno Rojas', 'picture': {'url': 'https://lh3.googleusercontent.com/a/default-user=s64'}, 'isAuthenticatedUser': True, 'permissionId': '07124787491129265627', 'emailAddress': 'mfb2@rice.edu'}], 'lastModifyingUserName': 'Maria Briceno Rojas', 'lastModifyingUser': {'kind': 'drive#user', 'displayName': 'Maria Briceno Rojas', 'picture': {'url': 'https://lh3.googleusercontent.com/a/default-user=s64'}, 'isAuthenticatedUser': True, 'permissionId': '07124787491129265627', 'emailAddress': 'mfb2@rice.edu'}, 'capabilities': {'canCopy': False, 'canEdit': True}, 'editable': True, 'copyable': False, 'writersCanShare': True, 'shared': False, 'explicitlyTrashed': False, 'appDataContents': False, 'spaces': ['drive']}),\n",
              " GoogleDriveFile({'kind': 'drive#file', 'id': '1nmZy8OaWNY1d2ASCqTD1OxVWx7rg0ubb', 'etag': '\"MTY0NDk0NDgzOTc1MA\"', 'selfLink': 'https://www.googleapis.com/drive/v2/files/1nmZy8OaWNY1d2ASCqTD1OxVWx7rg0ubb', 'alternateLink': 'https://drive.google.com/drive/folders/1nmZy8OaWNY1d2ASCqTD1OxVWx7rg0ubb', 'embedLink': 'https://drive.google.com/embeddedfolderview?id=1nmZy8OaWNY1d2ASCqTD1OxVWx7rg0ubb', 'iconLink': 'https://drive-thirdparty.googleusercontent.com/16/type/application/vnd.google-apps.folder+shared', 'title': 'COMP631-CravingMeter', 'mimeType': 'application/vnd.google-apps.folder', 'labels': {'starred': False, 'hidden': False, 'trashed': False, 'restricted': False, 'viewed': True}, 'copyRequiresWriterPermission': False, 'createdDate': '2022-02-15T17:06:39.841Z', 'modifiedDate': '2022-02-15T17:07:19.750Z', 'modifiedByMeDate': '2022-02-15T17:07:19.750Z', 'lastViewedByMeDate': '2022-02-19T03:53:42.031Z', 'markedViewedByMeDate': '1970-01-01T00:00:00.000Z', 'version': '57', 'parents': [{'kind': 'drive#parentReference', 'id': '0ALwnWhx2GG_uUk9PVA', 'selfLink': 'https://www.googleapis.com/drive/v2/files/1nmZy8OaWNY1d2ASCqTD1OxVWx7rg0ubb/parents/0ALwnWhx2GG_uUk9PVA', 'parentLink': 'https://www.googleapis.com/drive/v2/files/0ALwnWhx2GG_uUk9PVA', 'isRoot': True}], 'userPermission': {'kind': 'drive#permission', 'etag': '\"ZrCzxxfYou6sDQ2QDxLyV_zjWWk\"', 'id': 'me', 'selfLink': 'https://www.googleapis.com/drive/v2/files/1nmZy8OaWNY1d2ASCqTD1OxVWx7rg0ubb/permissions/me', 'role': 'owner', 'type': 'user', 'pendingOwner': False}, 'quotaBytesUsed': '0', 'ownerNames': ['Maria Briceno Rojas'], 'owners': [{'kind': 'drive#user', 'displayName': 'Maria Briceno Rojas', 'picture': {'url': 'https://lh3.googleusercontent.com/a/default-user=s64'}, 'isAuthenticatedUser': True, 'permissionId': '07124787491129265627', 'emailAddress': 'mfb2@rice.edu'}], 'lastModifyingUserName': 'Maria Briceno Rojas', 'lastModifyingUser': {'kind': 'drive#user', 'displayName': 'Maria Briceno Rojas', 'picture': {'url': 'https://lh3.googleusercontent.com/a/default-user=s64'}, 'isAuthenticatedUser': True, 'permissionId': '07124787491129265627', 'emailAddress': 'mfb2@rice.edu'}, 'capabilities': {'canCopy': False, 'canEdit': True}, 'editable': True, 'copyable': False, 'writersCanShare': True, 'shared': True, 'explicitlyTrashed': False, 'appDataContents': False, 'spaces': ['drive']}),\n",
              " GoogleDriveFile({'kind': 'drive#file', 'id': '1TXmmWMDwnVFgXrhGEUoP-r8tLnkrgeBT', 'etag': '\"MTY0NDQ2NDMzOTQwMw\"', 'selfLink': 'https://www.googleapis.com/drive/v2/files/1TXmmWMDwnVFgXrhGEUoP-r8tLnkrgeBT', 'webContentLink': 'https://drive.google.com/uc?id=1TXmmWMDwnVFgXrhGEUoP-r8tLnkrgeBT&export=download', 'alternateLink': 'https://drive.google.com/file/d/1TXmmWMDwnVFgXrhGEUoP-r8tLnkrgeBT/view?usp=drivesdk', 'embedLink': 'https://drive.google.com/file/d/1TXmmWMDwnVFgXrhGEUoP-r8tLnkrgeBT/preview?usp=drivesdk', 'iconLink': 'https://drive-thirdparty.googleusercontent.com/16/type/application/json', 'title': 'Assignment1_Question3.ipynb', 'mimeType': 'application/json', 'description': 'Colaboratory notebook', 'labels': {'starred': False, 'hidden': False, 'trashed': False, 'restricted': False, 'viewed': True}, 'copyRequiresWriterPermission': False, 'createdDate': '2022-02-07T14:59:55.860Z', 'modifiedDate': '2022-02-10T03:38:59.403Z', 'modifiedByMeDate': '2022-02-10T03:38:59.403Z', 'lastViewedByMeDate': '2022-02-10T03:38:59.403Z', 'markedViewedByMeDate': '1970-01-01T00:00:00.000Z', 'version': '371', 'parents': [{'kind': 'drive#parentReference', 'id': '0ALwnWhx2GG_uUk9PVA', 'selfLink': 'https://www.googleapis.com/drive/v2/files/1TXmmWMDwnVFgXrhGEUoP-r8tLnkrgeBT/parents/0ALwnWhx2GG_uUk9PVA', 'parentLink': 'https://www.googleapis.com/drive/v2/files/0ALwnWhx2GG_uUk9PVA', 'isRoot': True}], 'downloadUrl': 'https://www.googleapis.com/drive/v2/files/1TXmmWMDwnVFgXrhGEUoP-r8tLnkrgeBT?alt=media&source=downloadUrl', 'userPermission': {'kind': 'drive#permission', 'etag': '\"0h4hvfHJXqRTaAO1cL4L-lYpEYc\"', 'id': 'me', 'selfLink': 'https://www.googleapis.com/drive/v2/files/1TXmmWMDwnVFgXrhGEUoP-r8tLnkrgeBT/permissions/me', 'role': 'owner', 'type': 'user', 'pendingOwner': False}, 'originalFilename': 'Assignment1_Question3.ipynb', 'fileExtension': 'ipynb', 'md5Checksum': 'e0073c8fd6bbf5168e2338c0c1dab776', 'fileSize': '135752', 'quotaBytesUsed': '1641085', 'ownerNames': ['Maria Briceno Rojas'], 'owners': [{'kind': 'drive#user', 'displayName': 'Maria Briceno Rojas', 'picture': {'url': 'https://lh3.googleusercontent.com/a/default-user=s64'}, 'isAuthenticatedUser': True, 'permissionId': '07124787491129265627', 'emailAddress': 'mfb2@rice.edu'}], 'lastModifyingUserName': 'Maria Briceno Rojas', 'lastModifyingUser': {'kind': 'drive#user', 'displayName': 'Maria Briceno Rojas', 'picture': {'url': 'https://lh3.googleusercontent.com/a/default-user=s64'}, 'isAuthenticatedUser': True, 'permissionId': '07124787491129265627', 'emailAddress': 'mfb2@rice.edu'}, 'capabilities': {'canCopy': True, 'canEdit': True}, 'editable': True, 'copyable': True, 'writersCanShare': True, 'shared': False, 'explicitlyTrashed': False, 'appDataContents': False, 'headRevisionId': '0B7wnWhx2GG_uVmxKTDFodzl0dUs0eTM5UW4wYUx5VTRZWEl3PQ', 'spaces': ['drive']}),\n",
              " GoogleDriveFile({'kind': 'drive#file', 'id': '1cS87m1E62gwCgNaQeSPnWyNgZveWWedm', 'etag': '\"MTY0Mzc0ODMxMjQ4Ng\"', 'selfLink': 'https://www.googleapis.com/drive/v2/files/1cS87m1E62gwCgNaQeSPnWyNgZveWWedm', 'alternateLink': 'https://drive.google.com/drive/folders/1cS87m1E62gwCgNaQeSPnWyNgZveWWedm', 'embedLink': 'https://drive.google.com/embeddedfolderview?id=1cS87m1E62gwCgNaQeSPnWyNgZveWWedm', 'iconLink': 'https://drive-thirdparty.googleusercontent.com/16/type/application/vnd.google-apps.folder', 'title': 'COMP642', 'mimeType': 'application/vnd.google-apps.folder', 'labels': {'starred': False, 'hidden': False, 'trashed': False, 'restricted': False, 'viewed': True}, 'copyRequiresWriterPermission': False, 'createdDate': '2022-02-01T20:45:12.486Z', 'modifiedDate': '2022-02-01T20:45:12.486Z', 'modifiedByMeDate': '2022-02-01T20:45:12.486Z', 'lastViewedByMeDate': '2022-02-17T20:59:59.837Z', 'markedViewedByMeDate': '1970-01-01T00:00:00.000Z', 'version': '3', 'parents': [{'kind': 'drive#parentReference', 'id': '0ALwnWhx2GG_uUk9PVA', 'selfLink': 'https://www.googleapis.com/drive/v2/files/1cS87m1E62gwCgNaQeSPnWyNgZveWWedm/parents/0ALwnWhx2GG_uUk9PVA', 'parentLink': 'https://www.googleapis.com/drive/v2/files/0ALwnWhx2GG_uUk9PVA', 'isRoot': True}], 'userPermission': {'kind': 'drive#permission', 'etag': '\"OxVqneWkHN3BYtD_U_y3Cwp2iu4\"', 'id': 'me', 'selfLink': 'https://www.googleapis.com/drive/v2/files/1cS87m1E62gwCgNaQeSPnWyNgZveWWedm/permissions/me', 'role': 'owner', 'type': 'user', 'pendingOwner': False}, 'quotaBytesUsed': '0', 'ownerNames': ['Maria Briceno Rojas'], 'owners': [{'kind': 'drive#user', 'displayName': 'Maria Briceno Rojas', 'picture': {'url': 'https://lh3.googleusercontent.com/a/default-user=s64'}, 'isAuthenticatedUser': True, 'permissionId': '07124787491129265627', 'emailAddress': 'mfb2@rice.edu'}], 'lastModifyingUserName': 'Maria Briceno Rojas', 'lastModifyingUser': {'kind': 'drive#user', 'displayName': 'Maria Briceno Rojas', 'picture': {'url': 'https://lh3.googleusercontent.com/a/default-user=s64'}, 'isAuthenticatedUser': True, 'permissionId': '07124787491129265627', 'emailAddress': 'mfb2@rice.edu'}, 'capabilities': {'canCopy': False, 'canEdit': True}, 'editable': True, 'copyable': False, 'writersCanShare': True, 'shared': False, 'explicitlyTrashed': False, 'appDataContents': False, 'spaces': ['drive']}),\n",
              " GoogleDriveFile({'kind': 'drive#file', 'id': '1znLaUTuOUa7SHTtH2__pEEP0aroAulqD', 'etag': '\"MTY0MzQ3MTE4NjYyMA\"', 'selfLink': 'https://www.googleapis.com/drive/v2/files/1znLaUTuOUa7SHTtH2__pEEP0aroAulqD', 'alternateLink': 'https://drive.google.com/file/d/1znLaUTuOUa7SHTtH2__pEEP0aroAulqD/view?usp=drivesdk', 'embedLink': 'https://drive.google.com/file/d/1znLaUTuOUa7SHTtH2__pEEP0aroAulqD/preview?usp=drivesdk', 'iconLink': 'https://drive-thirdparty.googleusercontent.com/16/type/application/vnd.google-apps.shortcut', 'title': 'Datathon2022', 'mimeType': 'application/vnd.google-apps.shortcut', 'labels': {'starred': False, 'hidden': False, 'trashed': False, 'restricted': False, 'viewed': True}, 'copyRequiresWriterPermission': False, 'createdDate': '2022-01-29T15:46:26.620Z', 'modifiedDate': '2022-01-29T15:46:26.620Z', 'modifiedByMeDate': '2022-01-29T15:46:26.620Z', 'lastViewedByMeDate': '2022-01-29T15:46:26.620Z', 'markedViewedByMeDate': '1970-01-01T00:00:00.000Z', 'version': '1', 'parents': [{'kind': 'drive#parentReference', 'id': '0ALwnWhx2GG_uUk9PVA', 'selfLink': 'https://www.googleapis.com/drive/v2/files/1znLaUTuOUa7SHTtH2__pEEP0aroAulqD/parents/0ALwnWhx2GG_uUk9PVA', 'parentLink': 'https://www.googleapis.com/drive/v2/files/0ALwnWhx2GG_uUk9PVA', 'isRoot': True}], 'userPermission': {'kind': 'drive#permission', 'etag': '\"dRWfounPXW_HTjrJcKsWorpZ8p8\"', 'id': 'me', 'selfLink': 'https://www.googleapis.com/drive/v2/files/1znLaUTuOUa7SHTtH2__pEEP0aroAulqD/permissions/me', 'role': 'owner', 'type': 'user', 'pendingOwner': False}, 'quotaBytesUsed': '0', 'ownerNames': ['Maria Briceno Rojas'], 'owners': [{'kind': 'drive#user', 'displayName': 'Maria Briceno Rojas', 'picture': {'url': 'https://lh3.googleusercontent.com/a/default-user=s64'}, 'isAuthenticatedUser': True, 'permissionId': '07124787491129265627', 'emailAddress': 'mfb2@rice.edu'}], 'lastModifyingUserName': 'Maria Briceno Rojas', 'lastModifyingUser': {'kind': 'drive#user', 'displayName': 'Maria Briceno Rojas', 'picture': {'url': 'https://lh3.googleusercontent.com/a/default-user=s64'}, 'isAuthenticatedUser': True, 'permissionId': '07124787491129265627', 'emailAddress': 'mfb2@rice.edu'}, 'capabilities': {'canCopy': True, 'canEdit': True}, 'editable': True, 'copyable': True, 'writersCanShare': True, 'shared': False, 'explicitlyTrashed': False, 'appDataContents': False, 'spaces': ['drive']})]"
            ]
          },
          "metadata": {},
          "execution_count": 4
        }
      ]
    },
    {
      "cell_type": "code",
      "source": [
        "\n",
        "folder_id = '1SFId5EqIW_iaCOhB1tLlp-7shHtI1xoB'#'1nmZy8OaWNY1d2ASCqTD1OxVWx7rg0ubb'# #COMP631-CravingMeter/Files\n",
        "file_list = drive.ListFile({'q': f\"'{folder_id}' in parents and trashed=false\"}).GetList()"
      ],
      "metadata": {
        "id": "Xmq9ToL1p0UH"
      },
      "execution_count": 5,
      "outputs": []
    },
    {
      "cell_type": "code",
      "source": [
        "#type(file_list[0]['id'])\n",
        "sm_file_list = file_list[:2]\n",
        "# sm_file_list\n",
        "for f_i, file in enumerate(sm_file_list):\n",
        "  f_id = file_list[f_i]['id']\n",
        "  f_title = file_list[f_i]['title']\n",
        "  print(f_id,\",\",f_title)"
      ],
      "metadata": {
        "colab": {
          "base_uri": "https://localhost:8080/"
        },
        "id": "yGgZ1f_dszj_",
        "outputId": "0734cf8c-32c0-46ca-c188-ab3a3c32b828"
      },
      "execution_count": 20,
      "outputs": [
        {
          "output_type": "stream",
          "name": "stdout",
          "text": [
            "1oBIC2ZDs2A0r7EQNzfi8-Vcsj5AFPW70 61b0b8fc4ce3c40008bf94b5.json\n",
            "1oCgQoemj6H7EyFDyK8OzhxRCQDJdirZz 61acc46e244643000aabe8f1.json\n"
          ]
        }
      ]
    },
    {
      "cell_type": "code",
      "source": [
        "# Lines = [\"This is line A\\n\", \"This is line B\\n\", \"This is line C\\n\"]\n",
        "folder_path = '/content/gdrive/MyDrive/COMP631-CravingMeter/'\n",
        "file_name = 'files-folder-contents_1.txt'\n",
        "\n",
        "with open(folder_path+file_name, 'w') as writefile:\n",
        "  for f_i, file in enumerate(file_list):\n",
        "    f_id = file_list[f_i]['id']\n",
        "    f_title = file_list[f_i]['title']\n",
        "    line = f_id+\",\"+f_title+\"\\n\"\n",
        "    writefile.write(line)"
      ],
      "metadata": {
        "id": "ot_g-t0_trkg"
      },
      "execution_count": 26,
      "outputs": []
    },
    {
      "cell_type": "code",
      "source": [
        "item_files = []\n",
        "folder_id = '1SFId5EqIW_iaCOhB1tLlp-7shHtI1xoB'#'1nmZy8OaWNY1d2ASCqTD1OxVWx7rg0ubb'# #COMP631-CravingMeter/Files\n",
        "# file_list = drive.ListFile({'q': f\"'{folder_id}' in parents and trashed=false\", 'maxResults': 2}).GetList()\n",
        "for file_list in drive.ListFile({'q': f\"'{folder_id}' in parents and trashed=false\", 'maxResults': 10}):\n",
        "  for file1 in file_list:\n",
        "    item_files.append((file1['title'], file1['id']))"
      ],
      "metadata": {
        "colab": {
          "base_uri": "https://localhost:8080/",
          "height": 519
        },
        "id": "DUI2qVVmsREK",
        "outputId": "33ac13e8-6b79-412c-9cb7-8486a542b9a8"
      },
      "execution_count": 17,
      "outputs": [
        {
          "output_type": "error",
          "ename": "InvalidConfigError",
          "evalue": "ignored",
          "traceback": [
            "\u001b[0;31m---------------------------------------------------------------------------\u001b[0m",
            "\u001b[0;31mFileNotFoundError\u001b[0m                         Traceback (most recent call last)",
            "\u001b[0;32m/usr/local/lib/python3.7/dist-packages/oauth2client/clientsecrets.py\u001b[0m in \u001b[0;36m_loadfile\u001b[0;34m(filename)\u001b[0m\n\u001b[1;32m    120\u001b[0m     \u001b[0;32mtry\u001b[0m\u001b[0;34m:\u001b[0m\u001b[0;34m\u001b[0m\u001b[0;34m\u001b[0m\u001b[0m\n\u001b[0;32m--> 121\u001b[0;31m         \u001b[0;32mwith\u001b[0m \u001b[0mopen\u001b[0m\u001b[0;34m(\u001b[0m\u001b[0mfilename\u001b[0m\u001b[0;34m,\u001b[0m \u001b[0;34m'r'\u001b[0m\u001b[0;34m)\u001b[0m \u001b[0;32mas\u001b[0m \u001b[0mfp\u001b[0m\u001b[0;34m:\u001b[0m\u001b[0;34m\u001b[0m\u001b[0;34m\u001b[0m\u001b[0m\n\u001b[0m\u001b[1;32m    122\u001b[0m             \u001b[0mobj\u001b[0m \u001b[0;34m=\u001b[0m \u001b[0mjson\u001b[0m\u001b[0;34m.\u001b[0m\u001b[0mload\u001b[0m\u001b[0;34m(\u001b[0m\u001b[0mfp\u001b[0m\u001b[0;34m)\u001b[0m\u001b[0;34m\u001b[0m\u001b[0;34m\u001b[0m\u001b[0m\n",
            "\u001b[0;31mFileNotFoundError\u001b[0m: [Errno 2] No such file or directory: 'client_secrets.json'",
            "\nDuring handling of the above exception, another exception occurred:\n",
            "\u001b[0;31mInvalidClientSecretsError\u001b[0m                 Traceback (most recent call last)",
            "\u001b[0;32m/usr/local/lib/python3.7/dist-packages/pydrive/auth.py\u001b[0m in \u001b[0;36mLoadClientConfigFile\u001b[0;34m(self, client_config_file)\u001b[0m\n\u001b[1;32m    385\u001b[0m     \u001b[0;32mtry\u001b[0m\u001b[0;34m:\u001b[0m\u001b[0;34m\u001b[0m\u001b[0;34m\u001b[0m\u001b[0m\n\u001b[0;32m--> 386\u001b[0;31m       \u001b[0mclient_type\u001b[0m\u001b[0;34m,\u001b[0m \u001b[0mclient_info\u001b[0m \u001b[0;34m=\u001b[0m \u001b[0mclientsecrets\u001b[0m\u001b[0;34m.\u001b[0m\u001b[0mloadfile\u001b[0m\u001b[0;34m(\u001b[0m\u001b[0mclient_config_file\u001b[0m\u001b[0;34m)\u001b[0m\u001b[0;34m\u001b[0m\u001b[0;34m\u001b[0m\u001b[0m\n\u001b[0m\u001b[1;32m    387\u001b[0m     \u001b[0;32mexcept\u001b[0m \u001b[0mclientsecrets\u001b[0m\u001b[0;34m.\u001b[0m\u001b[0mInvalidClientSecretsError\u001b[0m \u001b[0;32mas\u001b[0m \u001b[0merror\u001b[0m\u001b[0;34m:\u001b[0m\u001b[0;34m\u001b[0m\u001b[0;34m\u001b[0m\u001b[0m\n",
            "\u001b[0;32m/usr/local/lib/python3.7/dist-packages/oauth2client/clientsecrets.py\u001b[0m in \u001b[0;36mloadfile\u001b[0;34m(filename, cache)\u001b[0m\n\u001b[1;32m    164\u001b[0m     \u001b[0;32mif\u001b[0m \u001b[0;32mnot\u001b[0m \u001b[0mcache\u001b[0m\u001b[0;34m:\u001b[0m\u001b[0;34m\u001b[0m\u001b[0;34m\u001b[0m\u001b[0m\n\u001b[0;32m--> 165\u001b[0;31m         \u001b[0;32mreturn\u001b[0m \u001b[0m_loadfile\u001b[0m\u001b[0;34m(\u001b[0m\u001b[0mfilename\u001b[0m\u001b[0;34m)\u001b[0m\u001b[0;34m\u001b[0m\u001b[0;34m\u001b[0m\u001b[0m\n\u001b[0m\u001b[1;32m    166\u001b[0m \u001b[0;34m\u001b[0m\u001b[0m\n",
            "\u001b[0;32m/usr/local/lib/python3.7/dist-packages/oauth2client/clientsecrets.py\u001b[0m in \u001b[0;36m_loadfile\u001b[0;34m(filename)\u001b[0m\n\u001b[1;32m    124\u001b[0m         raise InvalidClientSecretsError('Error opening file', exc.filename,\n\u001b[0;32m--> 125\u001b[0;31m                                         exc.strerror, exc.errno)\n\u001b[0m\u001b[1;32m    126\u001b[0m     \u001b[0;32mreturn\u001b[0m \u001b[0m_validate_clientsecrets\u001b[0m\u001b[0;34m(\u001b[0m\u001b[0mobj\u001b[0m\u001b[0;34m)\u001b[0m\u001b[0;34m\u001b[0m\u001b[0;34m\u001b[0m\u001b[0m\n",
            "\u001b[0;31mInvalidClientSecretsError\u001b[0m: ('Error opening file', 'client_secrets.json', 'No such file or directory', 2)",
            "\nDuring handling of the above exception, another exception occurred:\n",
            "\u001b[0;31mInvalidConfigError\u001b[0m                        Traceback (most recent call last)",
            "\u001b[0;32m<ipython-input-17-d5307b123f4c>\u001b[0m in \u001b[0;36m<module>\u001b[0;34m()\u001b[0m\n\u001b[1;32m      2\u001b[0m \u001b[0mfolder_id\u001b[0m \u001b[0;34m=\u001b[0m \u001b[0;34m'1SFId5EqIW_iaCOhB1tLlp-7shHtI1xoB'\u001b[0m\u001b[0;31m#'1nmZy8OaWNY1d2ASCqTD1OxVWx7rg0ubb'#\u001b[0m\u001b[0;34m\u001b[0m\u001b[0;34m\u001b[0m\u001b[0m\n\u001b[1;32m      3\u001b[0m \u001b[0;31m# file_list = drive.ListFile({'q': f\"'{folder_id}' in parents and trashed=false\", 'maxResults': 2}).GetList()\u001b[0m\u001b[0;34m\u001b[0m\u001b[0;34m\u001b[0m\u001b[0;34m\u001b[0m\u001b[0m\n\u001b[0;32m----> 4\u001b[0;31m \u001b[0;32mfor\u001b[0m \u001b[0mfile_list\u001b[0m \u001b[0;32min\u001b[0m \u001b[0mdrive\u001b[0m\u001b[0;34m.\u001b[0m\u001b[0mListFile\u001b[0m\u001b[0;34m(\u001b[0m\u001b[0;34m{\u001b[0m\u001b[0;34m'q'\u001b[0m\u001b[0;34m:\u001b[0m \u001b[0;34mf\"'{folder_id}' in parents and trashed=false\"\u001b[0m\u001b[0;34m,\u001b[0m \u001b[0;34m'maxResults'\u001b[0m\u001b[0;34m:\u001b[0m \u001b[0;36m10\u001b[0m\u001b[0;34m}\u001b[0m\u001b[0;34m)\u001b[0m\u001b[0;34m:\u001b[0m\u001b[0;34m\u001b[0m\u001b[0;34m\u001b[0m\u001b[0m\n\u001b[0m\u001b[1;32m      5\u001b[0m   \u001b[0;32mfor\u001b[0m \u001b[0mfile1\u001b[0m \u001b[0;32min\u001b[0m \u001b[0mfile_list\u001b[0m\u001b[0;34m:\u001b[0m\u001b[0;34m\u001b[0m\u001b[0;34m\u001b[0m\u001b[0m\n\u001b[1;32m      6\u001b[0m     \u001b[0mitem_files\u001b[0m\u001b[0;34m.\u001b[0m\u001b[0mappend\u001b[0m\u001b[0;34m(\u001b[0m\u001b[0;34m(\u001b[0m\u001b[0mfile1\u001b[0m\u001b[0;34m[\u001b[0m\u001b[0;34m'title'\u001b[0m\u001b[0;34m]\u001b[0m\u001b[0;34m,\u001b[0m \u001b[0mfile1\u001b[0m\u001b[0;34m[\u001b[0m\u001b[0;34m'id'\u001b[0m\u001b[0;34m]\u001b[0m\u001b[0;34m)\u001b[0m\u001b[0;34m)\u001b[0m\u001b[0;34m\u001b[0m\u001b[0;34m\u001b[0m\u001b[0m\n",
            "\u001b[0;32m/usr/local/lib/python3.7/dist-packages/pydrive/apiattr.py\u001b[0m in \u001b[0;36m__next__\u001b[0;34m(self)\u001b[0m\n\u001b[1;32m    144\u001b[0m     \u001b[0;32mif\u001b[0m \u001b[0;34m'pageToken'\u001b[0m \u001b[0;32min\u001b[0m \u001b[0mself\u001b[0m \u001b[0;32mand\u001b[0m \u001b[0mself\u001b[0m\u001b[0;34m[\u001b[0m\u001b[0;34m'pageToken'\u001b[0m\u001b[0;34m]\u001b[0m \u001b[0;32mis\u001b[0m \u001b[0;32mNone\u001b[0m\u001b[0;34m:\u001b[0m\u001b[0;34m\u001b[0m\u001b[0;34m\u001b[0m\u001b[0m\n\u001b[1;32m    145\u001b[0m       \u001b[0;32mraise\u001b[0m \u001b[0mStopIteration\u001b[0m\u001b[0;34m\u001b[0m\u001b[0;34m\u001b[0m\u001b[0m\n\u001b[0;32m--> 146\u001b[0;31m     \u001b[0mresult\u001b[0m \u001b[0;34m=\u001b[0m \u001b[0mself\u001b[0m\u001b[0;34m.\u001b[0m\u001b[0m_GetList\u001b[0m\u001b[0;34m(\u001b[0m\u001b[0;34m)\u001b[0m\u001b[0;34m\u001b[0m\u001b[0;34m\u001b[0m\u001b[0m\n\u001b[0m\u001b[1;32m    147\u001b[0m     \u001b[0mself\u001b[0m\u001b[0;34m[\u001b[0m\u001b[0;34m'pageToken'\u001b[0m\u001b[0;34m]\u001b[0m \u001b[0;34m=\u001b[0m \u001b[0mself\u001b[0m\u001b[0;34m.\u001b[0m\u001b[0mmetadata\u001b[0m\u001b[0;34m.\u001b[0m\u001b[0mget\u001b[0m\u001b[0;34m(\u001b[0m\u001b[0;34m'nextPageToken'\u001b[0m\u001b[0;34m)\u001b[0m\u001b[0;34m\u001b[0m\u001b[0;34m\u001b[0m\u001b[0m\n\u001b[1;32m    148\u001b[0m     \u001b[0;32mreturn\u001b[0m \u001b[0mresult\u001b[0m\u001b[0;34m\u001b[0m\u001b[0;34m\u001b[0m\u001b[0m\n",
            "\u001b[0;32m/usr/local/lib/python3.7/dist-packages/pydrive/auth.py\u001b[0m in \u001b[0;36m_decorated\u001b[0;34m(self, *args, **kwargs)\u001b[0m\n\u001b[1;32m     55\u001b[0m         \u001b[0mself\u001b[0m\u001b[0;34m.\u001b[0m\u001b[0mauth\u001b[0m\u001b[0;34m.\u001b[0m\u001b[0mServiceAuth\u001b[0m\u001b[0;34m(\u001b[0m\u001b[0;34m)\u001b[0m\u001b[0;34m\u001b[0m\u001b[0;34m\u001b[0m\u001b[0m\n\u001b[1;32m     56\u001b[0m       \u001b[0;32melse\u001b[0m\u001b[0;34m:\u001b[0m\u001b[0;34m\u001b[0m\u001b[0;34m\u001b[0m\u001b[0m\n\u001b[0;32m---> 57\u001b[0;31m         \u001b[0mself\u001b[0m\u001b[0;34m.\u001b[0m\u001b[0mauth\u001b[0m\u001b[0;34m.\u001b[0m\u001b[0mLocalWebserverAuth\u001b[0m\u001b[0;34m(\u001b[0m\u001b[0;34m)\u001b[0m\u001b[0;34m\u001b[0m\u001b[0;34m\u001b[0m\u001b[0m\n\u001b[0m\u001b[1;32m     58\u001b[0m \u001b[0;34m\u001b[0m\u001b[0m\n\u001b[1;32m     59\u001b[0m     \u001b[0;31m# Initialise service if not built yet.\u001b[0m\u001b[0;34m\u001b[0m\u001b[0;34m\u001b[0m\u001b[0;34m\u001b[0m\u001b[0m\n",
            "\u001b[0;32m/usr/local/lib/python3.7/dist-packages/pydrive/auth.py\u001b[0m in \u001b[0;36m_decorated\u001b[0;34m(self, *args, **kwargs)\u001b[0m\n\u001b[1;32m    111\u001b[0m       \u001b[0mself\u001b[0m\u001b[0;34m.\u001b[0m\u001b[0mLoadCredentials\u001b[0m\u001b[0;34m(\u001b[0m\u001b[0;34m)\u001b[0m\u001b[0;34m\u001b[0m\u001b[0;34m\u001b[0m\u001b[0m\n\u001b[1;32m    112\u001b[0m     \u001b[0;32mif\u001b[0m \u001b[0mself\u001b[0m\u001b[0;34m.\u001b[0m\u001b[0mflow\u001b[0m \u001b[0;32mis\u001b[0m \u001b[0;32mNone\u001b[0m\u001b[0;34m:\u001b[0m\u001b[0;34m\u001b[0m\u001b[0;34m\u001b[0m\u001b[0m\n\u001b[0;32m--> 113\u001b[0;31m       \u001b[0mself\u001b[0m\u001b[0;34m.\u001b[0m\u001b[0mGetFlow\u001b[0m\u001b[0;34m(\u001b[0m\u001b[0;34m)\u001b[0m\u001b[0;34m\u001b[0m\u001b[0;34m\u001b[0m\u001b[0m\n\u001b[0m\u001b[1;32m    114\u001b[0m     \u001b[0;32mif\u001b[0m \u001b[0mself\u001b[0m\u001b[0;34m.\u001b[0m\u001b[0mcredentials\u001b[0m \u001b[0;32mis\u001b[0m \u001b[0;32mNone\u001b[0m\u001b[0;34m:\u001b[0m\u001b[0;34m\u001b[0m\u001b[0;34m\u001b[0m\u001b[0m\n\u001b[1;32m    115\u001b[0m       \u001b[0mcode\u001b[0m \u001b[0;34m=\u001b[0m \u001b[0mdecoratee\u001b[0m\u001b[0;34m(\u001b[0m\u001b[0mself\u001b[0m\u001b[0;34m,\u001b[0m \u001b[0;34m*\u001b[0m\u001b[0margs\u001b[0m\u001b[0;34m,\u001b[0m \u001b[0;34m**\u001b[0m\u001b[0mkwargs\u001b[0m\u001b[0;34m)\u001b[0m\u001b[0;34m\u001b[0m\u001b[0;34m\u001b[0m\u001b[0m\n",
            "\u001b[0;32m/usr/local/lib/python3.7/dist-packages/pydrive/auth.py\u001b[0m in \u001b[0;36mGetFlow\u001b[0;34m(self)\u001b[0m\n\u001b[1;32m    441\u001b[0m     if not all(config in self.client_config \\\n\u001b[1;32m    442\u001b[0m                for config in self.CLIENT_CONFIGS_LIST):\n\u001b[0;32m--> 443\u001b[0;31m       \u001b[0mself\u001b[0m\u001b[0;34m.\u001b[0m\u001b[0mLoadClientConfig\u001b[0m\u001b[0;34m(\u001b[0m\u001b[0;34m)\u001b[0m\u001b[0;34m\u001b[0m\u001b[0;34m\u001b[0m\u001b[0m\n\u001b[0m\u001b[1;32m    444\u001b[0m     constructor_kwargs = {\n\u001b[1;32m    445\u001b[0m         \u001b[0;34m'redirect_uri'\u001b[0m\u001b[0;34m:\u001b[0m \u001b[0mself\u001b[0m\u001b[0;34m.\u001b[0m\u001b[0mclient_config\u001b[0m\u001b[0;34m[\u001b[0m\u001b[0;34m'redirect_uri'\u001b[0m\u001b[0;34m]\u001b[0m\u001b[0;34m,\u001b[0m\u001b[0;34m\u001b[0m\u001b[0;34m\u001b[0m\u001b[0m\n",
            "\u001b[0;32m/usr/local/lib/python3.7/dist-packages/pydrive/auth.py\u001b[0m in \u001b[0;36mLoadClientConfig\u001b[0;34m(self, backend)\u001b[0m\n\u001b[1;32m    364\u001b[0m         \u001b[0;32mraise\u001b[0m \u001b[0mInvalidConfigError\u001b[0m\u001b[0;34m(\u001b[0m\u001b[0;34m'Please specify client config backend'\u001b[0m\u001b[0;34m)\u001b[0m\u001b[0;34m\u001b[0m\u001b[0;34m\u001b[0m\u001b[0m\n\u001b[1;32m    365\u001b[0m     \u001b[0;32mif\u001b[0m \u001b[0mbackend\u001b[0m \u001b[0;34m==\u001b[0m \u001b[0;34m'file'\u001b[0m\u001b[0;34m:\u001b[0m\u001b[0;34m\u001b[0m\u001b[0;34m\u001b[0m\u001b[0m\n\u001b[0;32m--> 366\u001b[0;31m       \u001b[0mself\u001b[0m\u001b[0;34m.\u001b[0m\u001b[0mLoadClientConfigFile\u001b[0m\u001b[0;34m(\u001b[0m\u001b[0;34m)\u001b[0m\u001b[0;34m\u001b[0m\u001b[0;34m\u001b[0m\u001b[0m\n\u001b[0m\u001b[1;32m    367\u001b[0m     \u001b[0;32melif\u001b[0m \u001b[0mbackend\u001b[0m \u001b[0;34m==\u001b[0m \u001b[0;34m'settings'\u001b[0m\u001b[0;34m:\u001b[0m\u001b[0;34m\u001b[0m\u001b[0;34m\u001b[0m\u001b[0m\n\u001b[1;32m    368\u001b[0m       \u001b[0mself\u001b[0m\u001b[0;34m.\u001b[0m\u001b[0mLoadClientConfigSettings\u001b[0m\u001b[0;34m(\u001b[0m\u001b[0;34m)\u001b[0m\u001b[0;34m\u001b[0m\u001b[0;34m\u001b[0m\u001b[0m\n",
            "\u001b[0;32m/usr/local/lib/python3.7/dist-packages/pydrive/auth.py\u001b[0m in \u001b[0;36mLoadClientConfigFile\u001b[0;34m(self, client_config_file)\u001b[0m\n\u001b[1;32m    386\u001b[0m       \u001b[0mclient_type\u001b[0m\u001b[0;34m,\u001b[0m \u001b[0mclient_info\u001b[0m \u001b[0;34m=\u001b[0m \u001b[0mclientsecrets\u001b[0m\u001b[0;34m.\u001b[0m\u001b[0mloadfile\u001b[0m\u001b[0;34m(\u001b[0m\u001b[0mclient_config_file\u001b[0m\u001b[0;34m)\u001b[0m\u001b[0;34m\u001b[0m\u001b[0;34m\u001b[0m\u001b[0m\n\u001b[1;32m    387\u001b[0m     \u001b[0;32mexcept\u001b[0m \u001b[0mclientsecrets\u001b[0m\u001b[0;34m.\u001b[0m\u001b[0mInvalidClientSecretsError\u001b[0m \u001b[0;32mas\u001b[0m \u001b[0merror\u001b[0m\u001b[0;34m:\u001b[0m\u001b[0;34m\u001b[0m\u001b[0;34m\u001b[0m\u001b[0m\n\u001b[0;32m--> 388\u001b[0;31m       \u001b[0;32mraise\u001b[0m \u001b[0mInvalidConfigError\u001b[0m\u001b[0;34m(\u001b[0m\u001b[0;34m'Invalid client secrets file %s'\u001b[0m \u001b[0;34m%\u001b[0m \u001b[0merror\u001b[0m\u001b[0;34m)\u001b[0m\u001b[0;34m\u001b[0m\u001b[0;34m\u001b[0m\u001b[0m\n\u001b[0m\u001b[1;32m    389\u001b[0m     if not client_type in (clientsecrets.TYPE_WEB,\n\u001b[1;32m    390\u001b[0m                            clientsecrets.TYPE_INSTALLED):\n",
            "\u001b[0;31mInvalidConfigError\u001b[0m: Invalid client secrets file ('Error opening file', 'client_secrets.json', 'No such file or directory', 2)"
          ]
        }
      ]
    },
    {
      "cell_type": "markdown",
      "source": [
        "TODO: \n",
        "- Identify all files within google drive folder\n",
        "- Loop through each file and extract the brand_name, item_name, item_id\n"
      ],
      "metadata": {
        "id": "dYhxKjZ_ij67"
      }
    },
    {
      "cell_type": "code",
      "execution_count": 3,
      "metadata": {
        "id": "QAwYMmSXmVz6",
        "colab": {
          "base_uri": "https://localhost:8080/",
          "height": 235
        },
        "outputId": "9e02afd0-3b73-4fe3-daa3-52cb0b95f886"
      },
      "outputs": [
        {
          "output_type": "error",
          "ename": "OSError",
          "evalue": "ignored",
          "traceback": [
            "\u001b[0;31m---------------------------------------------------------------------------\u001b[0m",
            "\u001b[0;31mOSError\u001b[0m                                   Traceback (most recent call last)",
            "\u001b[0;32m<ipython-input-3-c80b04d335b0>\u001b[0m in \u001b[0;36m<module>\u001b[0;34m()\u001b[0m\n\u001b[1;32m      2\u001b[0m \u001b[0mfile_name\u001b[0m \u001b[0;34m=\u001b[0m \u001b[0;34m'56a2d717e1b0b89a6b412977.json'\u001b[0m\u001b[0;34m\u001b[0m\u001b[0;34m\u001b[0m\u001b[0m\n\u001b[1;32m      3\u001b[0m \u001b[0;34m\u001b[0m\u001b[0m\n\u001b[0;32m----> 4\u001b[0;31m \u001b[0;32mwith\u001b[0m \u001b[0mopen\u001b[0m\u001b[0;34m(\u001b[0m\u001b[0mfolder_path\u001b[0m\u001b[0;34m+\u001b[0m\u001b[0mfile_name\u001b[0m\u001b[0;34m)\u001b[0m \u001b[0;32mas\u001b[0m \u001b[0mjson_file\u001b[0m\u001b[0;34m:\u001b[0m\u001b[0;34m\u001b[0m\u001b[0;34m\u001b[0m\u001b[0m\n\u001b[0m\u001b[1;32m      5\u001b[0m     \u001b[0mdata\u001b[0m \u001b[0;34m=\u001b[0m \u001b[0mjson\u001b[0m\u001b[0;34m.\u001b[0m\u001b[0mload\u001b[0m\u001b[0;34m(\u001b[0m\u001b[0mjson_file\u001b[0m\u001b[0;34m)\u001b[0m\u001b[0;34m\u001b[0m\u001b[0;34m\u001b[0m\u001b[0m\n\u001b[1;32m      6\u001b[0m \u001b[0;34m\u001b[0m\u001b[0m\n",
            "\u001b[0;31mOSError\u001b[0m: [Errno 5] Input/output error: '/content/gdrive/MyDrive/COMP631-CravingMeter/Files/56a2d717e1b0b89a6b412977.json'"
          ]
        }
      ],
      "source": [
        "folder_path = '/content/gdrive/MyDrive/COMP631-CravingMeter/Files/'\n",
        "file_name = '56a2d717e1b0b89a6b412977.json'\n",
        "\n",
        "with open(folder_path+file_name) as json_file:\n",
        "    data = json.load(json_file)\n",
        "\n",
        "# print(data)"
      ]
    },
    {
      "cell_type": "code",
      "source": [
        "data['brand_name']"
      ],
      "metadata": {
        "colab": {
          "base_uri": "https://localhost:8080/",
          "height": 166
        },
        "id": "yBn9p-uAhzQF",
        "outputId": "f7924700-fdee-4f4f-fe37-d13b53477c38"
      },
      "execution_count": null,
      "outputs": [
        {
          "output_type": "error",
          "ename": "NameError",
          "evalue": "ignored",
          "traceback": [
            "\u001b[0;31m---------------------------------------------------------------------------\u001b[0m",
            "\u001b[0;31mNameError\u001b[0m                                 Traceback (most recent call last)",
            "\u001b[0;32m<ipython-input-1-46a678ccb0ab>\u001b[0m in \u001b[0;36m<module>\u001b[0;34m()\u001b[0m\n\u001b[0;32m----> 1\u001b[0;31m \u001b[0mdata\u001b[0m\u001b[0;34m[\u001b[0m\u001b[0;34m'brand_name'\u001b[0m\u001b[0;34m]\u001b[0m\u001b[0;34m\u001b[0m\u001b[0;34m\u001b[0m\u001b[0m\n\u001b[0m",
            "\u001b[0;31mNameError\u001b[0m: name 'data' is not defined"
          ]
        }
      ]
    }
  ],
  "metadata": {
    "colab": {
      "collapsed_sections": [],
      "name": "getBrandAndProductId.ipynb",
      "provenance": [],
      "include_colab_link": true
    },
    "kernelspec": {
      "display_name": "Python 3",
      "name": "python3"
    },
    "language_info": {
      "name": "python"
    }
  },
  "nbformat": 4,
  "nbformat_minor": 0
}