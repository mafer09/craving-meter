{
 "cells": [
  {
   "cell_type": "code",
   "execution_count": 1,
   "id": "5acf876d",
   "metadata": {},
   "outputs": [],
   "source": [
    "import requests\n",
    "import json\n",
    "import pysolr"
   ]
  },
  {
   "cell_type": "code",
   "execution_count": 14,
   "id": "97722906",
   "metadata": {},
   "outputs": [],
   "source": [
    "URL = 'http://localhost:8983/solr/craving/'"
   ]
  },
  {
   "cell_type": "markdown",
   "id": "900ee3cd",
   "metadata": {},
   "source": [
    "## Using Pysolr"
   ]
  },
  {
   "cell_type": "code",
   "execution_count": 15,
   "id": "5d2534d2",
   "metadata": {
    "scrolled": false
   },
   "outputs": [
    {
     "name": "stdout",
     "output_type": "stream",
     "text": [
      "{\n",
      "  \"responseHeader\":{\n",
      "    \"zkConnected\":null,\n",
      "    \"status\":0,\n",
      "    \"QTime\":83,\n",
      "    \"params\":{\n",
      "      \"q\":\"{!lucene}*:*\",\n",
      "      \"distrib\":\"false\",\n",
      "      \"df\":\"_text_\",\n",
      "      \"rows\":\"10\",\n",
      "      \"echoParams\":\"all\",\n",
      "      \"rid\":\"-0\"}},\n",
      "  \"status\":\"OK\"}\n",
      "\n"
     ]
    }
   ],
   "source": [
    "# health check\n",
    "solr = pysolr.Solr(URL, always_commit=True)\n",
    "print(solr.ping())"
   ]
  },
  {
   "cell_type": "code",
   "execution_count": 6,
   "id": "e373af72",
   "metadata": {},
   "outputs": [
    {
     "name": "stdout",
     "output_type": "stream",
     "text": [
      "Returned 10 result(s).\n",
      "The item name is '['Soft Dipped Vanilla Ice Cream Bars']'.\n",
      "The item name is '['Vanilla Ice Cream Bars, Soft Dipped']'.\n",
      "The item name is '['Vanilla Ice Cream, Cookies & Cream']'.\n",
      "The item name is '['Vanilla Ice Cream']'.\n",
      "The item name is '['Vanilla Ice Cream, Cookie Dough']'.\n",
      "The item name is '['Philly Vanilla Ice Cream']'.\n",
      "The item name is '['Vanilla Ice Cream Sandwich']'.\n",
      "The item name is '['Vanilla Ice Cream Cup']'.\n",
      "The item name is '['Vanilla Ice Cream Sandwich']'.\n",
      "The item name is '['Vanilla, Ice Cream']'.\n"
     ]
    }
   ],
   "source": [
    "# query\n",
    "results = solr.search('\\\"vanilla ice cream\\\"')\n",
    "print(\"Returned {0} result(s).\".format(len(results)))\n",
    "for result in results:\n",
    "    print(\"The item name is '{0}'.\".format(result['fields.item_name']))"
   ]
  },
  {
   "cell_type": "code",
   "execution_count": 4,
   "id": "047ff8f1",
   "metadata": {},
   "outputs": [
    {
     "data": {
      "text/plain": [
       "'<?xml version=\"1.0\" encoding=\"UTF-8\"?>\\n<response>\\n\\n<lst name=\"responseHeader\">\\n  <int name=\"status\">0</int>\\n  <int name=\"QTime\">97</int>\\n</lst>\\n</response>\\n'"
      ]
     },
     "execution_count": 4,
     "metadata": {},
     "output_type": "execute_result"
    }
   ],
   "source": [
    "# delete individual files by id\n",
    "# solr.delete(id='f121af0a-6af0-47c7-8836-ff19f9b3d43b')\n"
   ]
  },
  {
   "cell_type": "code",
   "execution_count": 5,
   "id": "892843ae",
   "metadata": {},
   "outputs": [
    {
     "data": {
      "text/plain": [
       "'<?xml version=\"1.0\" encoding=\"UTF-8\"?>\\n<response>\\n\\n<lst name=\"responseHeader\">\\n  <int name=\"status\">0</int>\\n  <int name=\"QTime\">325</int>\\n</lst>\\n</response>\\n'"
      ]
     },
     "execution_count": 5,
     "metadata": {},
     "output_type": "execute_result"
    }
   ],
   "source": [
    "\n",
    "# delete individual files by query\n",
    "# solr.delete(q='*')"
   ]
  },
  {
   "cell_type": "markdown",
   "id": "17987d2a",
   "metadata": {},
   "source": [
    "## Using Requests"
   ]
  },
  {
   "cell_type": "code",
   "execution_count": 10,
   "id": "b15fb04c",
   "metadata": {},
   "outputs": [
    {
     "data": {
      "text/plain": [
       "{'responseHeader': {'zkConnected': None,\n",
       "  'status': 0,\n",
       "  'QTime': 2,\n",
       "  'params': {'q': '{!lucene}*:*',\n",
       "   'distrib': 'false',\n",
       "   'df': '_text_',\n",
       "   'rows': '10',\n",
       "   'echoParams': 'all',\n",
       "   'rid': '-1'}},\n",
       " 'status': 'OK'}"
      ]
     },
     "execution_count": 10,
     "metadata": {},
     "output_type": "execute_result"
    }
   ],
   "source": [
    "# health check\n",
    "response = requests.get(URL+'admin/ping')\n",
    "response.json()"
   ]
  },
  {
   "cell_type": "code",
   "execution_count": 7,
   "id": "9db351ec",
   "metadata": {
    "scrolled": false
   },
   "outputs": [
    {
     "data": {
      "text/plain": [
       "{'responseHeader': {'status': 0,\n",
       "  'QTime': 50,\n",
       "  'params': {'json': '{\"query\": \"fields.brand_name:glico, fields.item_name:pocky\", \"limit\": 5, \"fields\": \"fields.item_name, fields.nf_sugars\", \"sort\": \"fields.nf_sugars desc\"}'}},\n",
       " 'response': {'numFound': 59,\n",
       "  'start': 0,\n",
       "  'numFoundExact': True,\n",
       "  'docs': [{'fields.item_name': ['Pocky Biscuits, Chocolate'],\n",
       "    'fields.nf_sugars': [26]},\n",
       "   {'fields.item_name': ['Pocky, Biscuit Sticks, Milk Chocolate Cream'],\n",
       "    'fields.nf_sugars': [25]},\n",
       "   {'fields.item_name': ['Almond Peak'], 'fields.nf_sugars': [25]},\n",
       "   {'fields.item_name': ['Pocky Matcha Green Tea Cream Covered Biscuit Sticks'],\n",
       "    'fields.nf_sugars': [24]},\n",
       "   {'fields.item_name': ['Kobe Roasted Chocolate Snack'],\n",
       "    'fields.nf_sugars': [24]}]}}"
      ]
     },
     "execution_count": 7,
     "metadata": {},
     "output_type": "execute_result"
    }
   ],
   "source": [
    "# query\n",
    "# JSON field: https://solr.apache.org/guide/8_11/json-request-api.html\n",
    "payload = json.dumps({\n",
    "    'query': 'fields.brand_name:glico, fields.item_name:pocky',   \n",
    "    'limit': 5,\n",
    "    'fields': 'fields.item_name, fields.nf_sugars',\n",
    "    'sort': 'fields.nf_sugars desc'\n",
    "    })\n",
    "headers = {'Content-Type': 'application/json'}\n",
    "response = requests.request(\"POST\", URL+'query', headers=headers, data=payload)\n",
    "response.json()"
   ]
  },
  {
   "cell_type": "code",
   "execution_count": 16,
   "id": "dbbf42ac",
   "metadata": {},
   "outputs": [
    {
     "data": {
      "text/plain": [
       "{'responseHeader': {'status': 0,\n",
       "  'QTime': 46,\n",
       "  'params': {'json': '{\"query\": \"item_id:59856db67dba91b97b43db28\"}'}},\n",
       " 'response': {'numFound': 2,\n",
       "  'start': 0,\n",
       "  'numFoundExact': True,\n",
       "  'docs': [{'_index': ['f762ef22-e660-434f-9071-a10ea6691c27'],\n",
       "    '_type': ['item'],\n",
       "    '_id': ['59856db67dba91b97b43db28'],\n",
       "    '_score': [8.079004],\n",
       "    'fields.brand_name': ['Glico'],\n",
       "    'fields.item_name': ['Pocky Biscuits, Chocolate'],\n",
       "    'fields.brand_id': ['51db37e5176fe9790a89a5e7'],\n",
       "    'fields.item_id': ['59856db67dba91b97b43db28'],\n",
       "    'item_id': ['59856db67dba91b97b43db28'],\n",
       "    'fields.item_type': [2],\n",
       "    'fields.nf_ingredient_statement': ['Wheat Flour, Sugar, Cocoa Mass, Vegetable Oil (Palm Oil, Sunflower Oil, Shea Butter, Illipe Butter, Sal Butter, Hydrogenated Rapeseed Oil), Whole Milk Powder, Vegetable Shortening (Palm Oil, Soybean Oil, Coconut Oil, Palm Kernel Oil, Sunflower Oil, Hydrogenated Rapeseed Oil, Hydrogenated Palm Oil), Malt Extract, Tapioca Starch, Salt, Yeast, Emulsifiers (Soy Lecithin, Polyglycerol Polyricinoleate), Cocoa Butter, Artificial Flavors, Leavening Agents (Sodium Bicarbonate), Annatto, Seasoning Agents (Trisodium Phosphate).'],\n",
       "    'fields.nf_calories': [121],\n",
       "    'fields.nf_total_fat': [23],\n",
       "    'fields.nf_saturated_fat': [11.2],\n",
       "    'fields.nf_sodium': [196],\n",
       "    'fields.nf_total_carbohydrate': [62],\n",
       "    'fields.nf_sugars': [26],\n",
       "    'fields.nf_protein': [8],\n",
       "    'fields.nf_serving_size_qty': [100],\n",
       "    'fields.nf_serving_size_unit': ['g'],\n",
       "    'fields.nf_serving_weight_grams': [100],\n",
       "    'fields.updated_at': ['2018-04-19T07:10:06Z'],\n",
       "    'id': 'eb82bdc0-9ad4-4b90-9a3c-1a7a0c3f7809',\n",
       "    '_version_': 1729914426594689024},\n",
       "   {'item_id': ['59856db67dba91b97b43db28'],\n",
       "    'category_level_1': [' Food / Beverages '],\n",
       "    'category_level_2': [' Grocery '],\n",
       "    'category_level_3': [' Confectionery / Desserts / Sweeteners '],\n",
       "    'category_level_4': [' Candy & Confectioneries (Shelf-Stable) '],\n",
       "    'id': 'adf70c92-5e87-4495-b098-58078bd30249',\n",
       "    '_version_': 1729915710948245527}]}}"
      ]
     },
     "execution_count": 16,
     "metadata": {},
     "output_type": "execute_result"
    }
   ],
   "source": [
    "# query\n",
    "# JSON field: https://solr.apache.org/guide/8_11/json-request-api.html\n",
    "payload = json.dumps({\n",
    "    'query': 'item_id:59856db67dba91b97b43db28'\n",
    "    })\n",
    "headers = {'Content-Type': 'application/json'}\n",
    "response = requests.request(\"POST\", URL+'query', headers=headers, data=payload)\n",
    "response.json()"
   ]
  },
  {
   "cell_type": "markdown",
   "id": "691c1545",
   "metadata": {},
   "source": [
    "WIP TESTS  "
   ]
  },
  {
   "cell_type": "code",
   "execution_count": 20,
   "id": "f0dd5ebb",
   "metadata": {},
   "outputs": [],
   "source": [
    "import json\n",
    "\n",
    "r = json.loads(response.text)"
   ]
  },
  {
   "cell_type": "code",
   "execution_count": 22,
   "id": "8ace4556",
   "metadata": {},
   "outputs": [
    {
     "data": {
      "text/plain": [
       "dict"
      ]
     },
     "execution_count": 22,
     "metadata": {},
     "output_type": "execute_result"
    }
   ],
   "source": [
    "type(r)"
   ]
  },
  {
   "cell_type": "code",
   "execution_count": 24,
   "id": "dd3f4d23",
   "metadata": {},
   "outputs": [
    {
     "name": "stdout",
     "output_type": "stream",
     "text": [
      "{\n",
      "    \"response\":{\n",
      "        \"docs\":[\n",
      "            {\n",
      "                \"_id\":[\n",
      "                    \"59856db67dba91b97b43db28\"\n",
      "                ],\n",
      "                \"_index\":[\n",
      "                    \"f762ef22-e660-434f-9071-a10ea6691c27\"\n",
      "                ],\n",
      "                \"_score\":[\n",
      "                    8.079004\n",
      "                ],\n",
      "                \"_type\":[\n",
      "                    \"item\"\n",
      "                ],\n",
      "                \"_version_\":1729914426594689024,\n",
      "                \"fields.brand_id\":[\n",
      "                    \"51db37e5176fe9790a89a5e7\"\n",
      "                ],\n",
      "                \"fields.brand_name\":[\n",
      "                    \"Glico\"\n",
      "                ],\n",
      "                \"fields.item_id\":[\n",
      "                    \"59856db67dba91b97b43db28\"\n",
      "                ],\n",
      "                \"fields.item_name\":[\n",
      "                    \"Pocky Biscuits, Chocolate\"\n",
      "                ],\n",
      "                \"fields.item_type\":[\n",
      "                    2\n",
      "                ],\n",
      "                \"fields.nf_calories\":[\n",
      "                    121\n",
      "                ],\n",
      "                \"fields.nf_ingredient_statement\":[\n",
      "                    \"Wheat Flour, Sugar, Cocoa Mass, Vegetable Oil (Palm Oil, Sunflower Oil, Shea Butter, Illipe Butter, Sal Butter, Hydrogenated Rapeseed Oil), Whole Milk Powder, Vegetable Shortening (Palm Oil, Soybean Oil, Coconut Oil, Palm Kernel Oil, Sunflower Oil, Hydrogenated Rapeseed Oil, Hydrogenated Palm Oil), Malt Extract, Tapioca Starch, Salt, Yeast, Emulsifiers (Soy Lecithin, Polyglycerol Polyricinoleate), Cocoa Butter, Artificial Flavors, Leavening Agents (Sodium Bicarbonate), Annatto, Seasoning Agents (Trisodium Phosphate).\"\n",
      "                ],\n",
      "                \"fields.nf_protein\":[\n",
      "                    8\n",
      "                ],\n",
      "                \"fields.nf_saturated_fat\":[\n",
      "                    11.2\n",
      "                ],\n",
      "                \"fields.nf_serving_size_qty\":[\n",
      "                    100\n",
      "                ],\n",
      "                \"fields.nf_serving_size_unit\":[\n",
      "                    \"g\"\n",
      "                ],\n",
      "                \"fields.nf_serving_weight_grams\":[\n",
      "                    100\n",
      "                ],\n",
      "                \"fields.nf_sodium\":[\n",
      "                    196\n",
      "                ],\n",
      "                \"fields.nf_sugars\":[\n",
      "                    26\n",
      "                ],\n",
      "                \"fields.nf_total_carbohydrate\":[\n",
      "                    62\n",
      "                ],\n",
      "                \"fields.nf_total_fat\":[\n",
      "                    23\n",
      "                ],\n",
      "                \"fields.updated_at\":[\n",
      "                    \"2018-04-19T07:10:06Z\"\n",
      "                ],\n",
      "                \"id\":\"eb82bdc0-9ad4-4b90-9a3c-1a7a0c3f7809\",\n",
      "                \"item_id\":[\n",
      "                    \"59856db67dba91b97b43db28\"\n",
      "                ]\n",
      "            },\n",
      "            {\n",
      "                \"_version_\":1729915710948245527,\n",
      "                \"category_level_1\":[\n",
      "                    \" Food / Beverages \"\n",
      "                ],\n",
      "                \"category_level_2\":[\n",
      "                    \" Grocery \"\n",
      "                ],\n",
      "                \"category_level_3\":[\n",
      "                    \" Confectionery / Desserts / Sweeteners \"\n",
      "                ],\n",
      "                \"category_level_4\":[\n",
      "                    \" Candy & Confectioneries (Shelf-Stable) \"\n",
      "                ],\n",
      "                \"id\":\"adf70c92-5e87-4495-b098-58078bd30249\",\n",
      "                \"item_id\":[\n",
      "                    \"59856db67dba91b97b43db28\"\n",
      "                ]\n",
      "            }\n",
      "        ],\n",
      "        \"numFound\":2,\n",
      "        \"numFoundExact\":true,\n",
      "        \"start\":0\n",
      "    },\n",
      "    \"responseHeader\":{\n",
      "        \"QTime\":46,\n",
      "        \"params\":{\n",
      "            \"json\":\"{\\\"query\\\": \\\"item_id:59856db67dba91b97b43db28\\\"}\"\n",
      "        },\n",
      "        \"status\":0\n",
      "    }\n",
      "}\n"
     ]
    }
   ],
   "source": [
    "print(json.dumps(r, sort_keys=True, indent=4, separators=(',', ':')))"
   ]
  },
  {
   "cell_type": "code",
   "execution_count": 31,
   "id": "eeee8c77",
   "metadata": {},
   "outputs": [
    {
     "data": {
      "text/plain": [
       "2"
      ]
     },
     "execution_count": 31,
     "metadata": {},
     "output_type": "execute_result"
    }
   ],
   "source": [
    "#len(r['response'])\n",
    "len(r['response']['docs'])"
   ]
  },
  {
   "cell_type": "code",
   "execution_count": 32,
   "id": "1d499c18",
   "metadata": {},
   "outputs": [
    {
     "name": "stdout",
     "output_type": "stream",
     "text": [
      "Glico\n"
     ]
    }
   ],
   "source": [
    "import nu_product as product\n",
    "\n",
    "tp = product.NuProduct(\"59856db67dba91b97b43db28\", \"Pocky Biscuits, Chocolate\", \"Glico\", 121, 8, 23, 11.2, 196, 26, 62, \" Food / Beverages \", \" Grocery \")\n",
    "print(tp._brand_name)"
   ]
  },
  {
   "cell_type": "code",
   "execution_count": null,
   "id": "5e65bfc6",
   "metadata": {},
   "outputs": [],
   "source": []
  }
 ],
 "metadata": {
  "kernelspec": {
   "display_name": "Python 3 (ipykernel)",
   "language": "python",
   "name": "python3"
  },
  "language_info": {
   "codemirror_mode": {
    "name": "ipython",
    "version": 3
   },
   "file_extension": ".py",
   "mimetype": "text/x-python",
   "name": "python",
   "nbconvert_exporter": "python",
   "pygments_lexer": "ipython3",
   "version": "3.8.8"
  }
 },
 "nbformat": 4,
 "nbformat_minor": 5
}
