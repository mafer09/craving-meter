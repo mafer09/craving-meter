{
 "cells": [
  {
   "cell_type": "code",
   "execution_count": 1,
   "id": "5acf876d",
   "metadata": {},
   "outputs": [],
   "source": [
    "import requests\n",
    "import json\n",
    "import pysolr"
   ]
  },
  {
   "cell_type": "code",
   "execution_count": 2,
   "id": "97722906",
   "metadata": {},
   "outputs": [],
   "source": [
    "URL = 'http://localhost:8983/solr/craving/'"
   ]
  },
  {
   "cell_type": "markdown",
   "id": "900ee3cd",
   "metadata": {},
   "source": [
    "## Using Pysolr"
   ]
  },
  {
   "cell_type": "code",
   "execution_count": 3,
   "id": "5d2534d2",
   "metadata": {
    "scrolled": false
   },
   "outputs": [
    {
     "name": "stdout",
     "output_type": "stream",
     "text": [
      "{\n",
      "  \"responseHeader\":{\n",
      "    \"zkConnected\":null,\n",
      "    \"status\":0,\n",
      "    \"QTime\":98,\n",
      "    \"params\":{\n",
      "      \"q\":\"{!lucene}*:*\",\n",
      "      \"distrib\":\"false\",\n",
      "      \"df\":\"_text_\",\n",
      "      \"rows\":\"10\",\n",
      "      \"echoParams\":\"all\",\n",
      "      \"rid\":\"-0\"}},\n",
      "  \"status\":\"OK\"}\n",
      "\n"
     ]
    }
   ],
   "source": [
    "# health check\n",
    "solr = pysolr.Solr(URL, always_commit=True)\n",
    "print(solr.ping())"
   ]
  },
  {
   "cell_type": "code",
   "execution_count": 6,
   "id": "e373af72",
   "metadata": {},
   "outputs": [
    {
     "name": "stdout",
     "output_type": "stream",
     "text": [
      "Returned 10 result(s).\n",
      "The item name is '['Soft Dipped Vanilla Ice Cream Bars']'.\n",
      "The item name is '['Vanilla Ice Cream Bars, Soft Dipped']'.\n",
      "The item name is '['Vanilla Ice Cream, Cookies & Cream']'.\n",
      "The item name is '['Vanilla Ice Cream']'.\n",
      "The item name is '['Vanilla Ice Cream, Cookie Dough']'.\n",
      "The item name is '['Philly Vanilla Ice Cream']'.\n",
      "The item name is '['Vanilla Ice Cream Sandwich']'.\n",
      "The item name is '['Vanilla Ice Cream Cup']'.\n",
      "The item name is '['Vanilla Ice Cream Sandwich']'.\n",
      "The item name is '['Vanilla, Ice Cream']'.\n"
     ]
    }
   ],
   "source": [
    "# query\n",
    "results = solr.search('\\\"vanilla ice cream\\\"')\n",
    "print(\"Returned {0} result(s).\".format(len(results)))\n",
    "for result in results:\n",
    "    print(\"The item name is '{0}'.\".format(result['fields.item_name']))"
   ]
  },
  {
   "cell_type": "code",
   "execution_count": 4,
   "id": "047ff8f1",
   "metadata": {},
   "outputs": [
    {
     "data": {
      "text/plain": [
       "'<?xml version=\"1.0\" encoding=\"UTF-8\"?>\\n<response>\\n\\n<lst name=\"responseHeader\">\\n  <int name=\"status\">0</int>\\n  <int name=\"QTime\">97</int>\\n</lst>\\n</response>\\n'"
      ]
     },
     "execution_count": 4,
     "metadata": {},
     "output_type": "execute_result"
    }
   ],
   "source": [
    "# delete individual files by id\n",
    "# solr.delete(id='f121af0a-6af0-47c7-8836-ff19f9b3d43b')\n"
   ]
  },
  {
   "cell_type": "code",
   "execution_count": 5,
   "id": "892843ae",
   "metadata": {},
   "outputs": [
    {
     "data": {
      "text/plain": [
       "'<?xml version=\"1.0\" encoding=\"UTF-8\"?>\\n<response>\\n\\n<lst name=\"responseHeader\">\\n  <int name=\"status\">0</int>\\n  <int name=\"QTime\">325</int>\\n</lst>\\n</response>\\n'"
      ]
     },
     "execution_count": 5,
     "metadata": {},
     "output_type": "execute_result"
    }
   ],
   "source": [
    "\n",
    "# delete individual files by query\n",
    "# solr.delete(q='*')"
   ]
  },
  {
   "cell_type": "markdown",
   "id": "17987d2a",
   "metadata": {},
   "source": [
    "## Using Requests"
   ]
  },
  {
   "cell_type": "code",
   "execution_count": 10,
   "id": "b15fb04c",
   "metadata": {},
   "outputs": [
    {
     "data": {
      "text/plain": [
       "{'responseHeader': {'zkConnected': None,\n",
       "  'status': 0,\n",
       "  'QTime': 2,\n",
       "  'params': {'q': '{!lucene}*:*',\n",
       "   'distrib': 'false',\n",
       "   'df': '_text_',\n",
       "   'rows': '10',\n",
       "   'echoParams': 'all',\n",
       "   'rid': '-1'}},\n",
       " 'status': 'OK'}"
      ]
     },
     "execution_count": 10,
     "metadata": {},
     "output_type": "execute_result"
    }
   ],
   "source": [
    "# health check\n",
    "response = requests.get(URL+'admin/ping')\n",
    "response.json()"
   ]
  },
  {
   "cell_type": "code",
   "execution_count": 7,
   "id": "9db351ec",
   "metadata": {
    "scrolled": false
   },
   "outputs": [
    {
     "data": {
      "text/plain": [
       "{'responseHeader': {'status': 0,\n",
       "  'QTime': 50,\n",
       "  'params': {'json': '{\"query\": \"fields.brand_name:glico, fields.item_name:pocky\", \"limit\": 5, \"fields\": \"fields.item_name, fields.nf_sugars\", \"sort\": \"fields.nf_sugars desc\"}'}},\n",
       " 'response': {'numFound': 59,\n",
       "  'start': 0,\n",
       "  'numFoundExact': True,\n",
       "  'docs': [{'fields.item_name': ['Pocky Biscuits, Chocolate'],\n",
       "    'fields.nf_sugars': [26]},\n",
       "   {'fields.item_name': ['Pocky, Biscuit Sticks, Milk Chocolate Cream'],\n",
       "    'fields.nf_sugars': [25]},\n",
       "   {'fields.item_name': ['Almond Peak'], 'fields.nf_sugars': [25]},\n",
       "   {'fields.item_name': ['Pocky Matcha Green Tea Cream Covered Biscuit Sticks'],\n",
       "    'fields.nf_sugars': [24]},\n",
       "   {'fields.item_name': ['Kobe Roasted Chocolate Snack'],\n",
       "    'fields.nf_sugars': [24]}]}}"
      ]
     },
     "execution_count": 7,
     "metadata": {},
     "output_type": "execute_result"
    }
   ],
   "source": [
    "# query\n",
    "# JSON field: https://solr.apache.org/guide/8_11/json-request-api.html\n",
    "payload = json.dumps({\n",
    "    'query': 'fields.brand_name:glico, fields.item_name:pocky',   \n",
    "    'limit': 5,\n",
    "    'fields': 'fields.item_name, fields.nf_sugars',\n",
    "    'sort': 'fields.nf_sugars desc'\n",
    "    })\n",
    "headers = {'Content-Type': 'application/json'}\n",
    "response = requests.request(\"POST\", URL+'query', headers=headers, data=payload)\n",
    "response.json()"
   ]
  },
  {
   "cell_type": "code",
   "execution_count": 5,
   "id": "dbbf42ac",
   "metadata": {},
   "outputs": [
    {
     "data": {
      "text/plain": [
       "{'responseHeader': {'status': 0,\n",
       "  'QTime': 26,\n",
       "  'params': {'json': '{\"query\": \"item_id:57c4fe021505159a29f2d2ef\"}'}},\n",
       " 'response': {'numFound': 2,\n",
       "  'start': 0,\n",
       "  'numFoundExact': True,\n",
       "  'docs': [{'_index': ['f762ef22-e660-434f-9071-a10ea6691c27'],\n",
       "    '_type': ['item'],\n",
       "    '_id': ['57c4fe021505159a29f2d2ef'],\n",
       "    '_score': [2.3352942],\n",
       "    'fields.brand_name': ['Wegmans'],\n",
       "    'fields.item_name': ['Dried Pineapple Chunks'],\n",
       "    'fields.brand_id': ['51db37b0176fe9790a8983be'],\n",
       "    'fields.item_id': ['57c4fe021505159a29f2d2ef'],\n",
       "    'item_id': ['57c4fe021505159a29f2d2ef'],\n",
       "    'fields.item_type': [2],\n",
       "    'fields.nf_calories': [140],\n",
       "    'fields.nf_total_fat': [0],\n",
       "    'fields.nf_saturated_fat': [0.0],\n",
       "    'fields.nf_trans_fatty_acid': [0],\n",
       "    'fields.nf_cholesterol': [0],\n",
       "    'fields.nf_sodium': [0],\n",
       "    'fields.nf_total_carbohydrate': [33],\n",
       "    'fields.nf_dietary_fiber': [3],\n",
       "    'fields.nf_sugars': [26],\n",
       "    'fields.nf_protein': [2],\n",
       "    'fields.nf_servings_per_container': [4],\n",
       "    'fields.nf_serving_size_qty': [0],\n",
       "    'fields.nf_serving_size_unit': ['cup'],\n",
       "    'fields.nf_serving_weight_grams': [40],\n",
       "    'fields.updated_at': ['2016-08-30T03:32:46Z'],\n",
       "    'id': '15cb70a7-162d-431f-8903-46b9dca3e475',\n",
       "    '_version_': 1729914313353723904},\n",
       "   {'item_id': ['57c4fe021505159a29f2d2ef'],\n",
       "    'category_level_1': [' Food / Beverages '],\n",
       "    'category_level_2': [' Grocery '],\n",
       "    'category_level_3': [' Fruits '],\n",
       "    'category_level_4': [' Dried Fruits '],\n",
       "    'id': '01ed9db0-1641-4967-8004-8387745d53e8',\n",
       "    '_version_': 1729915711887769744}]}}"
      ]
     },
     "execution_count": 5,
     "metadata": {},
     "output_type": "execute_result"
    }
   ],
   "source": [
    "# query\n",
    "# JSON field: https://solr.apache.org/guide/8_11/json-request-api.html\n",
    "payload = json.dumps({\n",
    "    'query': 'item_id:57c4fe021505159a29f2d2ef'\n",
    "    })\n",
    "headers = {'Content-Type': 'application/json'}\n",
    "response = requests.request(\"POST\", URL+'query', headers=headers, data=payload)\n",
    "response.json()"
   ]
  },
  {
   "cell_type": "markdown",
   "id": "691c1545",
   "metadata": {},
   "source": [
    "WIP TESTS  "
   ]
  },
  {
   "cell_type": "markdown",
   "id": "4c88dba9",
   "metadata": {},
   "source": [
    "Grocery: Snack Foods, Nuts & Seeds, Dietary Supplement Foods, Non-Supplement Nutritional Foods\n",
    "Beverages: Coffee, Water, Soda / Flavored Drinks, Fruit & Vegetable Drinks, Drink Mixes & Flavorings, Dairy-Based Drinks (Shelf-Stable), Tea, Dairy Substitute Based Drinks (Shelf Stable), Energy Drinks, Coffee / Tea Variety Packs, Sports Drinks"
   ]
  },
  {
   "cell_type": "code",
   "execution_count": 1,
   "id": "d9e925e8",
   "metadata": {},
   "outputs": [
    {
     "data": {
      "text/html": [
       "<div>\n",
       "<style scoped>\n",
       "    .dataframe tbody tr th:only-of-type {\n",
       "        vertical-align: middle;\n",
       "    }\n",
       "\n",
       "    .dataframe tbody tr th {\n",
       "        vertical-align: top;\n",
       "    }\n",
       "\n",
       "    .dataframe thead th {\n",
       "        text-align: right;\n",
       "    }\n",
       "</style>\n",
       "<table border=\"1\" class=\"dataframe\">\n",
       "  <thead>\n",
       "    <tr style=\"text-align: right;\">\n",
       "      <th></th>\n",
       "      <th>item_id</th>\n",
       "      <th>category_level_1</th>\n",
       "      <th>category_level_2</th>\n",
       "      <th>category_level_3</th>\n",
       "      <th>category_level_4</th>\n",
       "      <th>category_level_5</th>\n",
       "      <th>category_level_6</th>\n",
       "      <th>category_level_7</th>\n",
       "    </tr>\n",
       "  </thead>\n",
       "  <tbody>\n",
       "    <tr>\n",
       "      <th>0</th>\n",
       "      <td>61b0b8fc4ce3c40008bf94b5</td>\n",
       "      <td>Food / Beverages</td>\n",
       "      <td>Frozen Foods</td>\n",
       "      <td>Meals (Frozen)</td>\n",
       "      <td>NaN</td>\n",
       "      <td>NaN</td>\n",
       "      <td>NaN</td>\n",
       "      <td>NaN</td>\n",
       "    </tr>\n",
       "    <tr>\n",
       "      <th>1</th>\n",
       "      <td>61acc46e244643000aabe8f1</td>\n",
       "      <td>Food / Beverages</td>\n",
       "      <td>Dairy &amp; Egg Products</td>\n",
       "      <td>Cheeses</td>\n",
       "      <td>NaN</td>\n",
       "      <td>NaN</td>\n",
       "      <td>NaN</td>\n",
       "      <td>NaN</td>\n",
       "    </tr>\n",
       "    <tr>\n",
       "      <th>2</th>\n",
       "      <td>619e4484abc5600008f0d530</td>\n",
       "      <td>categoryNotFound</td>\n",
       "      <td>NaN</td>\n",
       "      <td>NaN</td>\n",
       "      <td>NaN</td>\n",
       "      <td>NaN</td>\n",
       "      <td>NaN</td>\n",
       "      <td>NaN</td>\n",
       "    </tr>\n",
       "    <tr>\n",
       "      <th>3</th>\n",
       "      <td>61a238616296b40008d37ee2</td>\n",
       "      <td>Food / Beverages</td>\n",
       "      <td>Produce</td>\n",
       "      <td>Prepared Fruits / Vegetables</td>\n",
       "      <td>NaN</td>\n",
       "      <td>NaN</td>\n",
       "      <td>NaN</td>\n",
       "      <td>NaN</td>\n",
       "    </tr>\n",
       "    <tr>\n",
       "      <th>4</th>\n",
       "      <td>619e43edabc5600008f0d2b4</td>\n",
       "      <td>Food / Beverages</td>\n",
       "      <td>Grocery</td>\n",
       "      <td>Condiments</td>\n",
       "      <td>Sauces / Dressings / Dips</td>\n",
       "      <td>Sauces (Shelf-Stable)</td>\n",
       "      <td>NaN</td>\n",
       "      <td>NaN</td>\n",
       "    </tr>\n",
       "  </tbody>\n",
       "</table>\n",
       "</div>"
      ],
      "text/plain": [
       "                    item_id    category_level_1        category_level_2  \\\n",
       "0  61b0b8fc4ce3c40008bf94b5   Food / Beverages            Frozen Foods    \n",
       "1  61acc46e244643000aabe8f1   Food / Beverages    Dairy & Egg Products    \n",
       "2  619e4484abc5600008f0d530    categoryNotFound                     NaN   \n",
       "3  61a238616296b40008d37ee2   Food / Beverages                 Produce    \n",
       "4  619e43edabc5600008f0d2b4   Food / Beverages                 Grocery    \n",
       "\n",
       "                 category_level_3             category_level_4  \\\n",
       "0                 Meals (Frozen)                           NaN   \n",
       "1                        Cheeses                           NaN   \n",
       "2                             NaN                          NaN   \n",
       "3   Prepared Fruits / Vegetables                           NaN   \n",
       "4                     Condiments    Sauces / Dressings / Dips    \n",
       "\n",
       "          category_level_5 category_level_6 category_level_7  \n",
       "0                      NaN              NaN              NaN  \n",
       "1                      NaN              NaN              NaN  \n",
       "2                      NaN              NaN              NaN  \n",
       "3                      NaN              NaN              NaN  \n",
       "4   Sauces (Shelf-Stable)               NaN              NaN  "
      ]
     },
     "execution_count": 1,
     "metadata": {},
     "output_type": "execute_result"
    }
   ],
   "source": [
    "import pandas as pd\n"
   ]
  },
  {
   "cell_type": "code",
   "execution_count": 3,
   "id": "b75576da",
   "metadata": {},
   "outputs": [
    {
     "data": {
      "text/html": [
       "<div>\n",
       "<style scoped>\n",
       "    .dataframe tbody tr th:only-of-type {\n",
       "        vertical-align: middle;\n",
       "    }\n",
       "\n",
       "    .dataframe tbody tr th {\n",
       "        vertical-align: top;\n",
       "    }\n",
       "\n",
       "    .dataframe thead th {\n",
       "        text-align: right;\n",
       "    }\n",
       "</style>\n",
       "<table border=\"1\" class=\"dataframe\">\n",
       "  <thead>\n",
       "    <tr style=\"text-align: right;\">\n",
       "      <th></th>\n",
       "      <th>item_id</th>\n",
       "      <th>category_level_1</th>\n",
       "      <th>category_level_2</th>\n",
       "      <th>category_level_3</th>\n",
       "      <th>category_level_4</th>\n",
       "      <th>category_level_5</th>\n",
       "      <th>category_level_6</th>\n",
       "      <th>category_level_7</th>\n",
       "    </tr>\n",
       "  </thead>\n",
       "  <tbody>\n",
       "    <tr>\n",
       "      <th>0</th>\n",
       "      <td>61b0b8fc4ce3c40008bf94b5</td>\n",
       "      <td>Food / Beverages</td>\n",
       "      <td>Frozen Foods</td>\n",
       "      <td>Meals (Frozen)</td>\n",
       "      <td>NaN</td>\n",
       "      <td>NaN</td>\n",
       "      <td>NaN</td>\n",
       "      <td>NaN</td>\n",
       "    </tr>\n",
       "    <tr>\n",
       "      <th>1</th>\n",
       "      <td>61acc46e244643000aabe8f1</td>\n",
       "      <td>Food / Beverages</td>\n",
       "      <td>Dairy &amp; Egg Products</td>\n",
       "      <td>Cheeses</td>\n",
       "      <td>NaN</td>\n",
       "      <td>NaN</td>\n",
       "      <td>NaN</td>\n",
       "      <td>NaN</td>\n",
       "    </tr>\n",
       "    <tr>\n",
       "      <th>2</th>\n",
       "      <td>619e4484abc5600008f0d530</td>\n",
       "      <td>categoryNotFound</td>\n",
       "      <td>NaN</td>\n",
       "      <td>NaN</td>\n",
       "      <td>NaN</td>\n",
       "      <td>NaN</td>\n",
       "      <td>NaN</td>\n",
       "      <td>NaN</td>\n",
       "    </tr>\n",
       "    <tr>\n",
       "      <th>3</th>\n",
       "      <td>61a238616296b40008d37ee2</td>\n",
       "      <td>Food / Beverages</td>\n",
       "      <td>Produce</td>\n",
       "      <td>Prepared Fruits / Vegetables</td>\n",
       "      <td>NaN</td>\n",
       "      <td>NaN</td>\n",
       "      <td>NaN</td>\n",
       "      <td>NaN</td>\n",
       "    </tr>\n",
       "    <tr>\n",
       "      <th>4</th>\n",
       "      <td>619e43edabc5600008f0d2b4</td>\n",
       "      <td>Food / Beverages</td>\n",
       "      <td>Grocery</td>\n",
       "      <td>Condiments</td>\n",
       "      <td>Sauces / Dressings / Dips</td>\n",
       "      <td>Sauces (Shelf-Stable)</td>\n",
       "      <td>NaN</td>\n",
       "      <td>NaN</td>\n",
       "    </tr>\n",
       "  </tbody>\n",
       "</table>\n",
       "</div>"
      ],
      "text/plain": [
       "                    item_id    category_level_1        category_level_2  \\\n",
       "0  61b0b8fc4ce3c40008bf94b5   Food / Beverages            Frozen Foods    \n",
       "1  61acc46e244643000aabe8f1   Food / Beverages    Dairy & Egg Products    \n",
       "2  619e4484abc5600008f0d530    categoryNotFound                     NaN   \n",
       "3  61a238616296b40008d37ee2   Food / Beverages                 Produce    \n",
       "4  619e43edabc5600008f0d2b4   Food / Beverages                 Grocery    \n",
       "\n",
       "                 category_level_3             category_level_4  \\\n",
       "0                 Meals (Frozen)                           NaN   \n",
       "1                        Cheeses                           NaN   \n",
       "2                             NaN                          NaN   \n",
       "3   Prepared Fruits / Vegetables                           NaN   \n",
       "4                     Condiments    Sauces / Dressings / Dips    \n",
       "\n",
       "          category_level_5 category_level_6 category_level_7  \n",
       "0                      NaN              NaN              NaN  \n",
       "1                      NaN              NaN              NaN  \n",
       "2                      NaN              NaN              NaN  \n",
       "3                      NaN              NaN              NaN  \n",
       "4   Sauces (Shelf-Stable)               NaN              NaN  "
      ]
     },
     "execution_count": 3,
     "metadata": {},
     "output_type": "execute_result"
    }
   ],
   "source": [
    "df_category = pd.read_csv('product_categories_v2.csv')\n",
    "df_category.head()"
   ]
  },
  {
   "cell_type": "code",
   "execution_count": 5,
   "id": "16cdca1f",
   "metadata": {},
   "outputs": [
    {
     "data": {
      "text/html": [
       "<div>\n",
       "<style scoped>\n",
       "    .dataframe tbody tr th:only-of-type {\n",
       "        vertical-align: middle;\n",
       "    }\n",
       "\n",
       "    .dataframe tbody tr th {\n",
       "        vertical-align: top;\n",
       "    }\n",
       "\n",
       "    .dataframe thead th {\n",
       "        text-align: right;\n",
       "    }\n",
       "</style>\n",
       "<table border=\"1\" class=\"dataframe\">\n",
       "  <thead>\n",
       "    <tr style=\"text-align: right;\">\n",
       "      <th></th>\n",
       "      <th>item_id</th>\n",
       "      <th>category_level_1</th>\n",
       "      <th>category_level_2</th>\n",
       "      <th>category_level_3</th>\n",
       "      <th>category_level_4</th>\n",
       "      <th>category_level_5</th>\n",
       "      <th>category_level_6</th>\n",
       "      <th>category_level_7</th>\n",
       "    </tr>\n",
       "  </thead>\n",
       "  <tbody>\n",
       "    <tr>\n",
       "      <th>0</th>\n",
       "      <td>61b0b8fc4ce3c40008bf94b5</td>\n",
       "      <td>Food / Beverages</td>\n",
       "      <td>Frozen Foods</td>\n",
       "      <td>Meals (Frozen)</td>\n",
       "      <td>NaN</td>\n",
       "      <td>NaN</td>\n",
       "      <td>NaN</td>\n",
       "      <td>NaN</td>\n",
       "    </tr>\n",
       "    <tr>\n",
       "      <th>1</th>\n",
       "      <td>61acc46e244643000aabe8f1</td>\n",
       "      <td>Food / Beverages</td>\n",
       "      <td>Dairy &amp; Egg Products</td>\n",
       "      <td>Cheeses</td>\n",
       "      <td>NaN</td>\n",
       "      <td>NaN</td>\n",
       "      <td>NaN</td>\n",
       "      <td>NaN</td>\n",
       "    </tr>\n",
       "    <tr>\n",
       "      <th>3</th>\n",
       "      <td>61a238616296b40008d37ee2</td>\n",
       "      <td>Food / Beverages</td>\n",
       "      <td>Produce</td>\n",
       "      <td>Prepared Fruits / Vegetables</td>\n",
       "      <td>NaN</td>\n",
       "      <td>NaN</td>\n",
       "      <td>NaN</td>\n",
       "      <td>NaN</td>\n",
       "    </tr>\n",
       "    <tr>\n",
       "      <th>4</th>\n",
       "      <td>619e43edabc5600008f0d2b4</td>\n",
       "      <td>Food / Beverages</td>\n",
       "      <td>Grocery</td>\n",
       "      <td>Condiments</td>\n",
       "      <td>Sauces / Dressings / Dips</td>\n",
       "      <td>Sauces (Shelf-Stable)</td>\n",
       "      <td>NaN</td>\n",
       "      <td>NaN</td>\n",
       "    </tr>\n",
       "    <tr>\n",
       "      <th>9</th>\n",
       "      <td>618a7d7d8bbb540008091dbe</td>\n",
       "      <td>Food / Beverages</td>\n",
       "      <td>Produce</td>\n",
       "      <td>Prepared Fruits / Vegetables</td>\n",
       "      <td>NaN</td>\n",
       "      <td>NaN</td>\n",
       "      <td>NaN</td>\n",
       "      <td>NaN</td>\n",
       "    </tr>\n",
       "  </tbody>\n",
       "</table>\n",
       "</div>"
      ],
      "text/plain": [
       "                    item_id    category_level_1        category_level_2  \\\n",
       "0  61b0b8fc4ce3c40008bf94b5   Food / Beverages            Frozen Foods    \n",
       "1  61acc46e244643000aabe8f1   Food / Beverages    Dairy & Egg Products    \n",
       "3  61a238616296b40008d37ee2   Food / Beverages                 Produce    \n",
       "4  619e43edabc5600008f0d2b4   Food / Beverages                 Grocery    \n",
       "9  618a7d7d8bbb540008091dbe   Food / Beverages                 Produce    \n",
       "\n",
       "                 category_level_3             category_level_4  \\\n",
       "0                 Meals (Frozen)                           NaN   \n",
       "1                        Cheeses                           NaN   \n",
       "3   Prepared Fruits / Vegetables                           NaN   \n",
       "4                     Condiments    Sauces / Dressings / Dips    \n",
       "9   Prepared Fruits / Vegetables                           NaN   \n",
       "\n",
       "          category_level_5 category_level_6 category_level_7  \n",
       "0                      NaN              NaN              NaN  \n",
       "1                      NaN              NaN              NaN  \n",
       "3                      NaN              NaN              NaN  \n",
       "4   Sauces (Shelf-Stable)               NaN              NaN  \n",
       "9                      NaN              NaN              NaN  "
      ]
     },
     "execution_count": 5,
     "metadata": {},
     "output_type": "execute_result"
    }
   ],
   "source": [
    "df = df_category.loc[df_category['category_level_1'] != \"categoryNotFound\"]\n",
    "df.head()"
   ]
  },
  {
   "cell_type": "code",
   "execution_count": 10,
   "id": "928b178d",
   "metadata": {},
   "outputs": [
    {
     "name": "stdout",
     "output_type": "stream",
     "text": [
      "number of items in category: 507\n"
     ]
    },
    {
     "data": {
      "text/html": [
       "<div>\n",
       "<style scoped>\n",
       "    .dataframe tbody tr th:only-of-type {\n",
       "        vertical-align: middle;\n",
       "    }\n",
       "\n",
       "    .dataframe tbody tr th {\n",
       "        vertical-align: top;\n",
       "    }\n",
       "\n",
       "    .dataframe thead th {\n",
       "        text-align: right;\n",
       "    }\n",
       "</style>\n",
       "<table border=\"1\" class=\"dataframe\">\n",
       "  <thead>\n",
       "    <tr style=\"text-align: right;\">\n",
       "      <th></th>\n",
       "      <th>item_id</th>\n",
       "      <th>category_level_1</th>\n",
       "      <th>category_level_2</th>\n",
       "      <th>category_level_3</th>\n",
       "      <th>category_level_4</th>\n",
       "      <th>category_level_5</th>\n",
       "      <th>category_level_6</th>\n",
       "      <th>category_level_7</th>\n",
       "    </tr>\n",
       "  </thead>\n",
       "  <tbody>\n",
       "    <tr>\n",
       "      <th>56</th>\n",
       "      <td>60365befa2560e1b186f6bec</td>\n",
       "      <td>Food / Beverages</td>\n",
       "      <td>Beverages</td>\n",
       "      <td>Water</td>\n",
       "      <td>Sparkling Water</td>\n",
       "      <td>NaN</td>\n",
       "      <td>NaN</td>\n",
       "      <td>NaN</td>\n",
       "    </tr>\n",
       "    <tr>\n",
       "      <th>90</th>\n",
       "      <td>600445f242a96e1d3af1cc79</td>\n",
       "      <td>Food / Beverages</td>\n",
       "      <td>Beverages</td>\n",
       "      <td>Water</td>\n",
       "      <td>Sparkling Water</td>\n",
       "      <td>NaN</td>\n",
       "      <td>NaN</td>\n",
       "      <td>NaN</td>\n",
       "    </tr>\n",
       "    <tr>\n",
       "      <th>116</th>\n",
       "      <td>5f89a9355390877547ba3678</td>\n",
       "      <td>Food / Beverages</td>\n",
       "      <td>Beverages</td>\n",
       "      <td>Water</td>\n",
       "      <td>Sparkling Water</td>\n",
       "      <td>NaN</td>\n",
       "      <td>NaN</td>\n",
       "      <td>NaN</td>\n",
       "    </tr>\n",
       "    <tr>\n",
       "      <th>146</th>\n",
       "      <td>5557da5ff22407741e5efd26</td>\n",
       "      <td>Food / Beverages</td>\n",
       "      <td>Beverages</td>\n",
       "      <td>Water</td>\n",
       "      <td>Sparkling Water</td>\n",
       "      <td>NaN</td>\n",
       "      <td>NaN</td>\n",
       "      <td>NaN</td>\n",
       "    </tr>\n",
       "    <tr>\n",
       "      <th>182</th>\n",
       "      <td>5f44bc79b1968369292328f5</td>\n",
       "      <td>Food / Beverages</td>\n",
       "      <td>Beverages</td>\n",
       "      <td>Water</td>\n",
       "      <td>Sparkling Water</td>\n",
       "      <td>NaN</td>\n",
       "      <td>NaN</td>\n",
       "      <td>NaN</td>\n",
       "    </tr>\n",
       "  </tbody>\n",
       "</table>\n",
       "</div>"
      ],
      "text/plain": [
       "                      item_id    category_level_1 category_level_2  \\\n",
       "56   60365befa2560e1b186f6bec   Food / Beverages        Beverages    \n",
       "90   600445f242a96e1d3af1cc79   Food / Beverages        Beverages    \n",
       "116  5f89a9355390877547ba3678   Food / Beverages        Beverages    \n",
       "146  5557da5ff22407741e5efd26   Food / Beverages        Beverages    \n",
       "182  5f44bc79b1968369292328f5   Food / Beverages        Beverages    \n",
       "\n",
       "    category_level_3   category_level_4 category_level_5 category_level_6  \\\n",
       "56            Water    Sparkling Water               NaN              NaN   \n",
       "90            Water    Sparkling Water               NaN              NaN   \n",
       "116           Water    Sparkling Water               NaN              NaN   \n",
       "146           Water    Sparkling Water               NaN              NaN   \n",
       "182           Water    Sparkling Water               NaN              NaN   \n",
       "\n",
       "    category_level_7  \n",
       "56               NaN  \n",
       "90               NaN  \n",
       "116              NaN  \n",
       "146              NaN  \n",
       "182              NaN  "
      ]
     },
     "execution_count": 10,
     "metadata": {},
     "output_type": "execute_result"
    }
   ],
   "source": [
    "df_lim = df.loc[df['category_level_3'] == \" Water \"]\n",
    "print(f'number of items in category: {len(df_lim)}')\n",
    "df_lim.head()"
   ]
  },
  {
   "cell_type": "code",
   "execution_count": 11,
   "id": "50aee968",
   "metadata": {},
   "outputs": [
    {
     "data": {
      "text/plain": [
       "array([' Sparkling Water ', ' Still Water ', ' Coconut Water ',\n",
       "       ' Distilled Water '], dtype=object)"
      ]
     },
     "execution_count": 11,
     "metadata": {},
     "output_type": "execute_result"
    }
   ],
   "source": [
    "a = df_lim['category_level_4'].unique()\n",
    "a"
   ]
  },
  {
   "cell_type": "code",
   "execution_count": 2,
   "id": "b7e56dd7",
   "metadata": {},
   "outputs": [
    {
     "data": {
      "text/html": [
       "<div>\n",
       "<style scoped>\n",
       "    .dataframe tbody tr th:only-of-type {\n",
       "        vertical-align: middle;\n",
       "    }\n",
       "\n",
       "    .dataframe tbody tr th {\n",
       "        vertical-align: top;\n",
       "    }\n",
       "\n",
       "    .dataframe thead th {\n",
       "        text-align: right;\n",
       "    }\n",
       "</style>\n",
       "<table border=\"1\" class=\"dataframe\">\n",
       "  <thead>\n",
       "    <tr style=\"text-align: right;\">\n",
       "      <th></th>\n",
       "      <th>item_id</th>\n",
       "      <th>category_level_1</th>\n",
       "      <th>category_level_2</th>\n",
       "      <th>category_level_3</th>\n",
       "      <th>category_level_4</th>\n",
       "      <th>category_level_5</th>\n",
       "      <th>category_level_6</th>\n",
       "      <th>category_level_7</th>\n",
       "    </tr>\n",
       "  </thead>\n",
       "  <tbody>\n",
       "    <tr>\n",
       "      <th>0</th>\n",
       "      <td>61b0b8fc4ce3c40008bf94b5</td>\n",
       "      <td>Food / Beverages</td>\n",
       "      <td>Frozen Foods</td>\n",
       "      <td>Meals (Frozen)</td>\n",
       "      <td>NaN</td>\n",
       "      <td>NaN</td>\n",
       "      <td>NaN</td>\n",
       "      <td>NaN</td>\n",
       "    </tr>\n",
       "    <tr>\n",
       "      <th>1</th>\n",
       "      <td>61acc46e244643000aabe8f1</td>\n",
       "      <td>Food / Beverages</td>\n",
       "      <td>Dairy &amp; Egg Products</td>\n",
       "      <td>Cheeses</td>\n",
       "      <td>NaN</td>\n",
       "      <td>NaN</td>\n",
       "      <td>NaN</td>\n",
       "      <td>NaN</td>\n",
       "    </tr>\n",
       "    <tr>\n",
       "      <th>2</th>\n",
       "      <td>619e4484abc5600008f0d530</td>\n",
       "      <td>categoryNotFound</td>\n",
       "      <td>NaN</td>\n",
       "      <td>NaN</td>\n",
       "      <td>NaN</td>\n",
       "      <td>NaN</td>\n",
       "      <td>NaN</td>\n",
       "      <td>NaN</td>\n",
       "    </tr>\n",
       "    <tr>\n",
       "      <th>3</th>\n",
       "      <td>61a238616296b40008d37ee2</td>\n",
       "      <td>Food / Beverages</td>\n",
       "      <td>Produce</td>\n",
       "      <td>Prepared Fruits / Vegetables</td>\n",
       "      <td>NaN</td>\n",
       "      <td>NaN</td>\n",
       "      <td>NaN</td>\n",
       "      <td>NaN</td>\n",
       "    </tr>\n",
       "    <tr>\n",
       "      <th>4</th>\n",
       "      <td>619e43edabc5600008f0d2b4</td>\n",
       "      <td>Food / Beverages</td>\n",
       "      <td>Grocery</td>\n",
       "      <td>Condiments</td>\n",
       "      <td>Sauces / Dressings / Dips</td>\n",
       "      <td>Sauces (Shelf-Stable)</td>\n",
       "      <td>NaN</td>\n",
       "      <td>NaN</td>\n",
       "    </tr>\n",
       "  </tbody>\n",
       "</table>\n",
       "</div>"
      ],
      "text/plain": [
       "                    item_id  category_level_1      category_level_2  \\\n",
       "0  61b0b8fc4ce3c40008bf94b5  Food / Beverages          Frozen Foods   \n",
       "1  61acc46e244643000aabe8f1  Food / Beverages  Dairy & Egg Products   \n",
       "2  619e4484abc5600008f0d530  categoryNotFound                   NaN   \n",
       "3  61a238616296b40008d37ee2  Food / Beverages               Produce   \n",
       "4  619e43edabc5600008f0d2b4  Food / Beverages               Grocery   \n",
       "\n",
       "               category_level_3           category_level_4  \\\n",
       "0                Meals (Frozen)                        NaN   \n",
       "1                       Cheeses                        NaN   \n",
       "2                           NaN                        NaN   \n",
       "3  Prepared Fruits / Vegetables                        NaN   \n",
       "4                    Condiments  Sauces / Dressings / Dips   \n",
       "\n",
       "        category_level_5 category_level_6 category_level_7  \n",
       "0                    NaN              NaN              NaN  \n",
       "1                    NaN              NaN              NaN  \n",
       "2                    NaN              NaN              NaN  \n",
       "3                    NaN              NaN              NaN  \n",
       "4  Sauces (Shelf-Stable)              NaN              NaN  "
      ]
     },
     "execution_count": 2,
     "metadata": {},
     "output_type": "execute_result"
    }
   ],
   "source": [
    "# strip whitespaces of categories\n",
    "for col in df_category.columns:\n",
    "    df_category[col] = df_category[col].str.strip()\n",
    "df_category.head()"
   ]
  },
  {
   "cell_type": "code",
   "execution_count": 20,
   "id": "f0dd5ebb",
   "metadata": {},
   "outputs": [],
   "source": [
    "import json\n",
    "\n",
    "r = json.loads(response.text)"
   ]
  },
  {
   "cell_type": "code",
   "execution_count": 22,
   "id": "8ace4556",
   "metadata": {},
   "outputs": [
    {
     "data": {
      "text/plain": [
       "dict"
      ]
     },
     "execution_count": 22,
     "metadata": {},
     "output_type": "execute_result"
    }
   ],
   "source": [
    "type(r)"
   ]
  },
  {
   "cell_type": "code",
   "execution_count": 24,
   "id": "dd3f4d23",
   "metadata": {},
   "outputs": [
    {
     "name": "stdout",
     "output_type": "stream",
     "text": [
      "{\n",
      "    \"response\":{\n",
      "        \"docs\":[\n",
      "            {\n",
      "                \"_id\":[\n",
      "                    \"59856db67dba91b97b43db28\"\n",
      "                ],\n",
      "                \"_index\":[\n",
      "                    \"f762ef22-e660-434f-9071-a10ea6691c27\"\n",
      "                ],\n",
      "                \"_score\":[\n",
      "                    8.079004\n",
      "                ],\n",
      "                \"_type\":[\n",
      "                    \"item\"\n",
      "                ],\n",
      "                \"_version_\":1729914426594689024,\n",
      "                \"fields.brand_id\":[\n",
      "                    \"51db37e5176fe9790a89a5e7\"\n",
      "                ],\n",
      "                \"fields.brand_name\":[\n",
      "                    \"Glico\"\n",
      "                ],\n",
      "                \"fields.item_id\":[\n",
      "                    \"59856db67dba91b97b43db28\"\n",
      "                ],\n",
      "                \"fields.item_name\":[\n",
      "                    \"Pocky Biscuits, Chocolate\"\n",
      "                ],\n",
      "                \"fields.item_type\":[\n",
      "                    2\n",
      "                ],\n",
      "                \"fields.nf_calories\":[\n",
      "                    121\n",
      "                ],\n",
      "                \"fields.nf_ingredient_statement\":[\n",
      "                    \"Wheat Flour, Sugar, Cocoa Mass, Vegetable Oil (Palm Oil, Sunflower Oil, Shea Butter, Illipe Butter, Sal Butter, Hydrogenated Rapeseed Oil), Whole Milk Powder, Vegetable Shortening (Palm Oil, Soybean Oil, Coconut Oil, Palm Kernel Oil, Sunflower Oil, Hydrogenated Rapeseed Oil, Hydrogenated Palm Oil), Malt Extract, Tapioca Starch, Salt, Yeast, Emulsifiers (Soy Lecithin, Polyglycerol Polyricinoleate), Cocoa Butter, Artificial Flavors, Leavening Agents (Sodium Bicarbonate), Annatto, Seasoning Agents (Trisodium Phosphate).\"\n",
      "                ],\n",
      "                \"fields.nf_protein\":[\n",
      "                    8\n",
      "                ],\n",
      "                \"fields.nf_saturated_fat\":[\n",
      "                    11.2\n",
      "                ],\n",
      "                \"fields.nf_serving_size_qty\":[\n",
      "                    100\n",
      "                ],\n",
      "                \"fields.nf_serving_size_unit\":[\n",
      "                    \"g\"\n",
      "                ],\n",
      "                \"fields.nf_serving_weight_grams\":[\n",
      "                    100\n",
      "                ],\n",
      "                \"fields.nf_sodium\":[\n",
      "                    196\n",
      "                ],\n",
      "                \"fields.nf_sugars\":[\n",
      "                    26\n",
      "                ],\n",
      "                \"fields.nf_total_carbohydrate\":[\n",
      "                    62\n",
      "                ],\n",
      "                \"fields.nf_total_fat\":[\n",
      "                    23\n",
      "                ],\n",
      "                \"fields.updated_at\":[\n",
      "                    \"2018-04-19T07:10:06Z\"\n",
      "                ],\n",
      "                \"id\":\"eb82bdc0-9ad4-4b90-9a3c-1a7a0c3f7809\",\n",
      "                \"item_id\":[\n",
      "                    \"59856db67dba91b97b43db28\"\n",
      "                ]\n",
      "            },\n",
      "            {\n",
      "                \"_version_\":1729915710948245527,\n",
      "                \"category_level_1\":[\n",
      "                    \" Food / Beverages \"\n",
      "                ],\n",
      "                \"category_level_2\":[\n",
      "                    \" Grocery \"\n",
      "                ],\n",
      "                \"category_level_3\":[\n",
      "                    \" Confectionery / Desserts / Sweeteners \"\n",
      "                ],\n",
      "                \"category_level_4\":[\n",
      "                    \" Candy & Confectioneries (Shelf-Stable) \"\n",
      "                ],\n",
      "                \"id\":\"adf70c92-5e87-4495-b098-58078bd30249\",\n",
      "                \"item_id\":[\n",
      "                    \"59856db67dba91b97b43db28\"\n",
      "                ]\n",
      "            }\n",
      "        ],\n",
      "        \"numFound\":2,\n",
      "        \"numFoundExact\":true,\n",
      "        \"start\":0\n",
      "    },\n",
      "    \"responseHeader\":{\n",
      "        \"QTime\":46,\n",
      "        \"params\":{\n",
      "            \"json\":\"{\\\"query\\\": \\\"item_id:59856db67dba91b97b43db28\\\"}\"\n",
      "        },\n",
      "        \"status\":0\n",
      "    }\n",
      "}\n"
     ]
    }
   ],
   "source": [
    "print(json.dumps(r, sort_keys=True, indent=4, separators=(',', ':')))"
   ]
  },
  {
   "cell_type": "code",
   "execution_count": 33,
   "id": "eeee8c77",
   "metadata": {},
   "outputs": [
    {
     "data": {
      "text/plain": [
       "[{'_index': ['f762ef22-e660-434f-9071-a10ea6691c27'],\n",
       "  '_type': ['item'],\n",
       "  '_id': ['59856db67dba91b97b43db28'],\n",
       "  '_score': [8.079004],\n",
       "  'fields.brand_name': ['Glico'],\n",
       "  'fields.item_name': ['Pocky Biscuits, Chocolate'],\n",
       "  'fields.brand_id': ['51db37e5176fe9790a89a5e7'],\n",
       "  'fields.item_id': ['59856db67dba91b97b43db28'],\n",
       "  'item_id': ['59856db67dba91b97b43db28'],\n",
       "  'fields.item_type': [2],\n",
       "  'fields.nf_ingredient_statement': ['Wheat Flour, Sugar, Cocoa Mass, Vegetable Oil (Palm Oil, Sunflower Oil, Shea Butter, Illipe Butter, Sal Butter, Hydrogenated Rapeseed Oil), Whole Milk Powder, Vegetable Shortening (Palm Oil, Soybean Oil, Coconut Oil, Palm Kernel Oil, Sunflower Oil, Hydrogenated Rapeseed Oil, Hydrogenated Palm Oil), Malt Extract, Tapioca Starch, Salt, Yeast, Emulsifiers (Soy Lecithin, Polyglycerol Polyricinoleate), Cocoa Butter, Artificial Flavors, Leavening Agents (Sodium Bicarbonate), Annatto, Seasoning Agents (Trisodium Phosphate).'],\n",
       "  'fields.nf_calories': [121],\n",
       "  'fields.nf_total_fat': [23],\n",
       "  'fields.nf_saturated_fat': [11.2],\n",
       "  'fields.nf_sodium': [196],\n",
       "  'fields.nf_total_carbohydrate': [62],\n",
       "  'fields.nf_sugars': [26],\n",
       "  'fields.nf_protein': [8],\n",
       "  'fields.nf_serving_size_qty': [100],\n",
       "  'fields.nf_serving_size_unit': ['g'],\n",
       "  'fields.nf_serving_weight_grams': [100],\n",
       "  'fields.updated_at': ['2018-04-19T07:10:06Z'],\n",
       "  'id': 'eb82bdc0-9ad4-4b90-9a3c-1a7a0c3f7809',\n",
       "  '_version_': 1729914426594689024},\n",
       " {'item_id': ['59856db67dba91b97b43db28'],\n",
       "  'category_level_1': [' Food / Beverages '],\n",
       "  'category_level_2': [' Grocery '],\n",
       "  'category_level_3': [' Confectionery / Desserts / Sweeteners '],\n",
       "  'category_level_4': [' Candy & Confectioneries (Shelf-Stable) '],\n",
       "  'id': 'adf70c92-5e87-4495-b098-58078bd30249',\n",
       "  '_version_': 1729915710948245527}]"
      ]
     },
     "execution_count": 33,
     "metadata": {},
     "output_type": "execute_result"
    }
   ],
   "source": [
    "#len(r['response'])\n",
    "(r['response']['docs'])"
   ]
  },
  {
   "cell_type": "code",
   "execution_count": null,
   "id": "95494b2b",
   "metadata": {},
   "outputs": [],
   "source": [
    "def parseSolrResponse(res):\n",
    "    "
   ]
  },
  {
   "cell_type": "code",
   "execution_count": null,
   "id": "478bb122",
   "metadata": {},
   "outputs": [],
   "source": [
    "def productBuilder:\n",
    "    "
   ]
  },
  {
   "cell_type": "code",
   "execution_count": 32,
   "id": "1d499c18",
   "metadata": {},
   "outputs": [
    {
     "name": "stdout",
     "output_type": "stream",
     "text": [
      "Glico\n"
     ]
    }
   ],
   "source": [
    "import nu_product as product\n",
    "\n",
    "tp = product.NuProduct(\"59856db67dba91b97b43db28\", \"Pocky Biscuits, Chocolate\", \"Glico\", 121, 8, 23, 11.2, 196, 26, 62, \" Food / Beverages \", \" Grocery \")\n",
    "print(tp._brand_name)"
   ]
  },
  {
   "cell_type": "code",
   "execution_count": null,
   "id": "5e65bfc6",
   "metadata": {},
   "outputs": [],
   "source": []
  }
 ],
 "metadata": {
  "kernelspec": {
   "display_name": "Python 3 (ipykernel)",
   "language": "python",
   "name": "python3"
  },
  "language_info": {
   "codemirror_mode": {
    "name": "ipython",
    "version": 3
   },
   "file_extension": ".py",
   "mimetype": "text/x-python",
   "name": "python",
   "nbconvert_exporter": "python",
   "pygments_lexer": "ipython3",
   "version": "3.9.7"
  }
 },
 "nbformat": 4,
 "nbformat_minor": 5
}
