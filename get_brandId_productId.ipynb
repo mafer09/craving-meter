{
  "cells": [
    {
      "cell_type": "markdown",
      "metadata": {
        "id": "view-in-github",
        "colab_type": "text"
      },
      "source": [
        "<a href=\"https://colab.research.google.com/github/mafer09/craving-meter/blob/main/get_brandId_productId.ipynb\" target=\"_parent\"><img src=\"https://colab.research.google.com/assets/colab-badge.svg\" alt=\"Open In Colab\"/></a>"
      ]
    },
    {
      "cell_type": "code",
      "execution_count": 1,
      "metadata": {
        "id": "0pK72-lEawiS"
      },
      "outputs": [],
      "source": [
        "#imports\n",
        "import json\n",
        "import re"
      ]
    },
    {
      "cell_type": "markdown",
      "source": [
        "Two methods to authenticate against google drive folder `COMP631-CravingMeter/Files` (location on which the api generated files are hosted)"
      ],
      "metadata": {
        "id": "7JIeO4-ZZ8Yq"
      }
    },
    {
      "cell_type": "code",
      "execution_count": 2,
      "metadata": {
        "colab": {
          "base_uri": "https://localhost:8080/"
        },
        "id": "zrfOHchOtdYB",
        "outputId": "77161b5f-4444-413b-bae4-343370a32478"
      },
      "outputs": [
        {
          "output_type": "stream",
          "name": "stdout",
          "text": [
            "Mounted at /content/gdrive\n"
          ]
        }
      ],
      "source": [
        "#mount to google drive\n",
        "from google.colab import drive\n",
        "drive.mount('/content/gdrive')"
      ]
    },
    {
      "cell_type": "code",
      "execution_count": 3,
      "metadata": {
        "id": "nhcO0uAbnImF"
      },
      "outputs": [],
      "source": [
        "#PyDrive google authentication set up\n",
        "from pydrive.auth import GoogleAuth\n",
        "from pydrive.drive import GoogleDrive\n",
        "from google.colab import auth\n",
        "from oauth2client.client import GoogleCredentials\n",
        "\n",
        "auth.authenticate_user()\n",
        "gauth = GoogleAuth()\n",
        "gauth.credentials = GoogleCredentials.get_application_default()\n",
        "drive = GoogleDrive(gauth)"
      ]
    },
    {
      "cell_type": "code",
      "execution_count": 4,
      "metadata": {
        "id": "-IyQApMYjeUF"
      },
      "outputs": [],
      "source": [
        "folder_path = '/content/gdrive/MyDrive/COMP631-CravingMeter/'"
      ]
    },
    {
      "cell_type": "markdown",
      "source": [
        "Retrieve products file metadata from google drive folder and write `file_id` and `file_name` into `files-folder-contents.txt` file"
      ],
      "metadata": {
        "id": "RDmxvX3RbTl6"
      }
    },
    {
      "cell_type": "code",
      "execution_count": 6,
      "metadata": {
        "id": "Xmq9ToL1p0UH"
      },
      "outputs": [],
      "source": [
        "# Retrieves googleDrive metadata of files contained within 'COMP631-CravingMeter/Files\" folder\n",
        "# CODE TAKES A WHILE TO RUN\n",
        "folder_id = '1SFId5EqIW_iaCOhB1tLlp-7shHtI1xoB' # folder_id for 'COMP631-CravingMeter/Files'\n",
        "file_list = drive.ListFile({'q': f\"'{folder_id}' in parents and trashed=false\"}).GetList()"
      ]
    },
    {
      "cell_type": "code",
      "execution_count": null,
      "metadata": {
        "id": "ot_g-t0_trkg"
      },
      "outputs": [],
      "source": [
        "#Write file folder contents (title and id) into .txt file\n",
        "file_name = 'files-folder-contents.txt'\n",
        "\n",
        "with open(folder_path+file_name, 'w') as writefile:\n",
        "  for f_i, file in enumerate(file_list):\n",
        "    f_id = file_list[f_i]['id']\n",
        "    f_title = file_list[f_i]['title']\n",
        "    line = f_id+\",\"+f_title+\"\\n\"\n",
        "    writefile.write(line)"
      ]
    },
    {
      "cell_type": "markdown",
      "source": [
        "Read in `files-folder-contents.txt`, open each file, and extract `brand_name`, `item_name`, `item_id` and write it into `item_fields.txt` file "
      ],
      "metadata": {
        "id": "8m81vRalb9Bg"
      }
    },
    {
      "cell_type": "code",
      "execution_count": null,
      "metadata": {
        "id": "fT5P5d6FhpzA"
      },
      "outputs": [],
      "source": [
        "#Read in list of files **requires google mount\n",
        "file_name = 'files-folder-contents.txt'\n",
        "with open(folder_path+file_name) as f:\n",
        "  item_list = f.readlines()"
      ]
    },
    {
      "cell_type": "code",
      "execution_count": null,
      "metadata": {
        "colab": {
          "base_uri": "https://localhost:8080/"
        },
        "id": "As3_SaAnCKpm",
        "outputId": "d97c6199-475e-4b87-a55b-8451dcc50a95"
      },
      "outputs": [
        {
          "output_type": "stream",
          "name": "stdout",
          "text": [
            "83643\n"
          ]
        }
      ],
      "source": [
        "#get index of last file retrieved\n",
        "last_place= \"5e27fd7ec3e834760d32f414.json\\n\"\n",
        "for idx, item in enumerate(item_list):\n",
        "  if item.endswith(last_place):\n",
        "    last_index = idx\n",
        "# [y[1] for y in item_list].index(last_place)\n",
        "last_index += 1\n",
        "print(last_index)"
      ]
    },
    {
      "cell_type": "code",
      "execution_count": null,
      "metadata": {
        "id": "8eKipr5bfquy"
      },
      "outputs": [],
      "source": [
        "#Write brand_name, item_name and item_id into .txt file\n",
        "file_name = 'item_fields.txt'\n",
        "\n",
        "with open(folder_path+file_name, 'a') as writefile:\n",
        "  # url_fields_list = []\n",
        "  for item in item_list[last_index:-1]:\n",
        "    try:\n",
        "      res = tuple(map(str,item.split(',')))\n",
        "      file_id = res[0]\n",
        "      get_file = drive.CreateFile({'id': file_id})\n",
        "      file_content = get_file.GetContentString()\n",
        "      file_json = json.loads(file_content)\n",
        "      \n",
        "      brand_name = file_json['fields']['brand_name']\n",
        "      item_name = file_json['fields']['item_name']\n",
        "      item_id = file_json['fields']['item_id']\n",
        "      # url_fields_list.append((brand_name, item_name, item_id))\n",
        "      line = \"\\\"\"+brand_name+\"\\\",\\\"\"+item_name+\"\\\",\"+item_id+\"\\n\"\n",
        "      writefile.write(line)\n",
        "    except FileNotFoundError: \n",
        "      print(\"error with google drive\")\n"
      ]
    }
  ],
  "metadata": {
    "colab": {
      "collapsed_sections": [],
      "name": "get_brandId_productId.ipynb",
      "provenance": [],
      "include_colab_link": true
    },
    "kernelspec": {
      "display_name": "Python 3",
      "name": "python3"
    },
    "language_info": {
      "name": "python"
    }
  },
  "nbformat": 4,
  "nbformat_minor": 0
}