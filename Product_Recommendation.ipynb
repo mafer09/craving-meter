{
 "cells": [
  {
   "cell_type": "code",
   "execution_count": 1,
   "id": "5acf876d",
   "metadata": {},
   "outputs": [],
   "source": [
    "import requests\n",
    "import json\n",
    "import pandas as pd\n",
    "import numpy as np\n",
    "import copy\n",
    "import time"
   ]
  },
  {
   "cell_type": "code",
   "execution_count": 2,
   "id": "97722906",
   "metadata": {},
   "outputs": [],
   "source": [
    "URL = 'http://localhost:8983/solr/craving/'"
   ]
  },
  {
   "cell_type": "markdown",
   "id": "5de9a0cf",
   "metadata": {},
   "source": [
    "## Product Recommendation"
   ]
  },
  {
   "cell_type": "code",
   "execution_count": 3,
   "id": "bd9291ca",
   "metadata": {},
   "outputs": [],
   "source": [
    "def print_results(dict_returns, num_returns, query):\n",
    "    '''\n",
    "    dict_returns: dictionary converted from JSON results (after ranking)\n",
    "    return_limit: number of returned results\n",
    "    query: input for Solr\n",
    "    '''\n",
    "    print()\n",
    "    print('Here are the top %s healthy options for \"%s\":' %(str(num_returns), query))\n",
    "    for doc in dict_returns['response']['docs'][:num_returns]:\n",
    "        print('******************************************')\n",
    "        print(doc['fields.brand_name'][0], doc['fields.item_name'][0])\n",
    "        print('   Nutrition Facts per serving (%s %s):' %(doc['fields.nf_serving_size_qty'][0],\n",
    "                                                          doc['fields.nf_serving_size_unit'][0]))\n",
    "        print('\\tSugar:', doc['fields.nf_sugars'][0])\n",
    "        print('\\tSodium:', doc['fields.nf_sodium'][0])\n",
    "        print('\\tSaturated fat:', doc['fields.nf_saturated_fat'][0])\n",
    "        print('\\tDietary fiber:', doc['fields.nf_dietary_fiber'][0])\n",
    "        print('\\tProtein:', doc['fields.nf_protein'][0])\n",
    "        print()"
   ]
  },
  {
   "cell_type": "code",
   "execution_count": 18,
   "id": "99077563",
   "metadata": {},
   "outputs": [],
   "source": [
    "def query_with_pagination(query='*', return_limit=5000):\n",
    "    '''\n",
    "    Query with pagination, returns ranked results.\n",
    "    '''\n",
    "    offset = 0\n",
    "    dict_returns = {}\n",
    "    while True:\n",
    "        payload = json.dumps({\n",
    "        'query': query,\n",
    "        'filter': 'fields.nf_sugars:[* TO *], fields.nf_sodium:[* TO *], fields.nf_saturated_fat:[* TO *], \\\n",
    "                   fields.nf_dietary_fiber:[* TO *], fields.nf_protein:[* TO *]',\n",
    "        'offset': offset,\n",
    "        'limit': return_limit,\n",
    "        'sort': 'fields.nf_sugars asc, fields.nf_sodium asc, fields.nf_saturated_fat asc, \\\n",
    "                 fields.nf_dietary_fiber desc, fields.nf_protein desc',\n",
    "        'params':{'q.op': 'AND'}\n",
    "        })\n",
    "        headers = {'Content-Type': 'application/json'}\n",
    "        response = requests.request(\"POST\", URL+'query', headers=headers, data=payload)\n",
    "        page_returns = response.json()\n",
    "        if offset == 0:\n",
    "            dict_returns = copy.deepcopy(page_returns)\n",
    "        else:\n",
    "            dict_returns['response']['docs'].extend(page_returns['response']['docs'])\n",
    "            dict_returns['response']['numFound'] += len(page_returns['response']['docs'])        \n",
    "        if len(page_returns['response']['docs']) < return_limit:\n",
    "            break\n",
    "        else:\n",
    "            offset += return_limit\n",
    "    return dict_returns\n",
    "\n",
    "DICT_RETURNS_NO_QUERY = query_with_pagination(query='*')"
   ]
  },
  {
   "cell_type": "code",
   "execution_count": 58,
   "id": "a39e5a0e",
   "metadata": {},
   "outputs": [],
   "source": [
    "def filter_with_ids(dict_returns, id_limit=[]):\n",
    "    '''\n",
    "    Filter result with id_limit\n",
    "    '''\n",
    "    id_limit = set(id_limit)\n",
    "    if len(id_limit) > 0:\n",
    "        print('Filtering query results...')\n",
    "        time_start = time.time()\n",
    "        dict_filter = copy.deepcopy(dict_returns)\n",
    "        dict_filter['response']['docs'] = []\n",
    "        dict_filter['response']['numFound'] = 0\n",
    "        \n",
    "        for doc in dict_returns['response']['docs']:\n",
    "            if doc['item_id'][0] in id_limit:\n",
    "                dict_filter['response']['docs'].append(doc)\n",
    "                dict_filter['response']['numFound'] += 1\n",
    "\n",
    "        dict_returns = copy.deepcopy(dict_filter)\n",
    "        \n",
    "    return dict_returns"
   ]
  },
  {
   "cell_type": "code",
   "execution_count": 59,
   "id": "01808a10",
   "metadata": {
    "scrolled": false
   },
   "outputs": [],
   "source": [
    "def product_recommend(query='*', num_options=3, return_limit=5000, id_limit=[], preference=[], allergy=[]):\n",
    "    '''\n",
    "    Given a product, find healthy options\n",
    "    Criteria: low sugar, low sodium, low unsaturated fats\n",
    "              high fiber, high protein\n",
    "    Input: query - string, no field name required\n",
    "           num_options: number of recommendations desired\n",
    "           return_limit: number of products listed per page\n",
    "           id_limit: list of item ids for filtering ranked results\n",
    "           preference: list of user dietary preferences\n",
    "           allergy: list of user allergies\n",
    "    '''\n",
    "    # Query in Solr \n",
    "    print('Gathering query results...')\n",
    "    time_start = time.time()\n",
    "    if query == '*':\n",
    "        dict_returns = DICT_RETURNS_NO_QUERY\n",
    "    else:\n",
    "        dict_returns = query_with_pagination(query=query, return_limit=return_limit)\n",
    "    print('Query time:', time.time() - time_start)\n",
    "    \n",
    "    # filter with id_limit   \n",
    "    dict_returns = filter_with_ids(dict_returns, id_limit=id_limit)\n",
    "    print('Filtering time:', time.time() - time_start)\n",
    "    \n",
    "    # print results\n",
    "    num_found = dict_returns['response']['numFound']\n",
    "    if num_found > 0:\n",
    "        print_results(dict_returns, min(num_options, num_found), query)\n",
    "    else:\n",
    "        print('The query \"%s\" did not match any products.' % query)"
   ]
  },
  {
   "cell_type": "markdown",
   "id": "2900fc59",
   "metadata": {},
   "source": [
    "### Tests"
   ]
  },
  {
   "cell_type": "code",
   "execution_count": 60,
   "id": "0ff1e757",
   "metadata": {},
   "outputs": [
    {
     "name": "stdout",
     "output_type": "stream",
     "text": [
      "Gathering query results...\n",
      "Query time: 0.010746002197265625\n",
      "Filtering time: 0.010746002197265625\n",
      "\n",
      "Here are the top 3 healthy options for \"kind banana\":\n",
      "******************************************\n",
      "Kind Banana Nut Clusters\n",
      "   Nutrition Facts per serving (0.33 cup):\n",
      "\tSugar: 3\n",
      "\tSodium: 35\n",
      "\tSaturated fat: 0\n",
      "\tDietary fiber: 2\n",
      "\tProtein: 2.0\n",
      "\n",
      "******************************************\n",
      "Kind Dark Chocolate Peanut Butter Banana Snack Mix\n",
      "   Nutrition Facts per serving (1.0 pack):\n",
      "\tSugar: 3\n",
      "\tSodium: 35\n",
      "\tSaturated fat: 2\n",
      "\tDietary fiber: 1\n",
      "\tProtein: 3.0\n",
      "\n",
      "******************************************\n",
      "Kind Dark Chocolate Peanut Butter Banana Snack Mix\n",
      "   Nutrition Facts per serving (0.25 cup):\n",
      "\tSugar: 5\n",
      "\tSodium: 55\n",
      "\tSaturated fat: 3\n",
      "\tDietary fiber: 2\n",
      "\tProtein: 5.0\n",
      "\n"
     ]
    }
   ],
   "source": [
    "product_recommend(query='kind banana')"
   ]
  },
  {
   "cell_type": "code",
   "execution_count": 61,
   "id": "55d814ca",
   "metadata": {},
   "outputs": [
    {
     "name": "stdout",
     "output_type": "stream",
     "text": [
      "Gathering query results...\n",
      "Query time: 0.0\n",
      "Filtering query results...\n",
      "Filtering time: 6.2321813106536865\n",
      "\n",
      "Here are the top 2 healthy options for \"*\":\n",
      "******************************************\n",
      "Kind Breakfast Protein Bar, Peanut Butter Banana Dark Chocolate\n",
      "   Nutrition Facts per serving (2.0 bars):\n",
      "\tSugar: 10\n",
      "\tSodium: 135\n",
      "\tSaturated fat: 2\n",
      "\tDietary fiber: 4\n",
      "\tProtein: 8.0\n",
      "\n",
      "******************************************\n",
      "Kind Pressed, Fruit Bars, Pineapple Banana Kale Spinach\n",
      "   Nutrition Facts per serving (1.0 bar):\n",
      "\tSugar: 18\n",
      "\tSodium: 45\n",
      "\tSaturated fat: 0\n",
      "\tDietary fiber: 2\n",
      "\tProtein: 1.0\n",
      "\n"
     ]
    }
   ],
   "source": [
    "# this takes about 20 seconds\n",
    "product_recommend(id_limit=[\"5b28aae078a76828637cecc7\", \"5a87d4ac7c76309a03c87cb1\"])"
   ]
  },
  {
   "cell_type": "code",
   "execution_count": null,
   "id": "4720e642",
   "metadata": {},
   "outputs": [],
   "source": []
  }
 ],
 "metadata": {
  "kernelspec": {
   "display_name": "Python 3 (ipykernel)",
   "language": "python",
   "name": "python3"
  },
  "language_info": {
   "codemirror_mode": {
    "name": "ipython",
    "version": 3
   },
   "file_extension": ".py",
   "mimetype": "text/x-python",
   "name": "python",
   "nbconvert_exporter": "python",
   "pygments_lexer": "ipython3",
   "version": "3.8.8"
  }
 },
 "nbformat": 4,
 "nbformat_minor": 5
}
