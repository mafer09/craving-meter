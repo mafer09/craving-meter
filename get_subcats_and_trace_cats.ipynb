{
 "cells": [
  {
   "cell_type": "code",
   "execution_count": 1,
   "id": "5acf876d",
   "metadata": {},
   "outputs": [],
   "source": [
    "import requests\n",
    "import json\n",
    "import pandas as pd\n",
    "import numpy as np"
   ]
  },
  {
   "cell_type": "code",
   "execution_count": 2,
   "id": "97722906",
   "metadata": {},
   "outputs": [],
   "source": [
    "URL = 'http://localhost:8983/solr/craving/'"
   ]
  },
  {
   "cell_type": "markdown",
   "id": "7fd33f9b",
   "metadata": {},
   "source": [
    "## Category Information Analysis"
   ]
  },
  {
   "cell_type": "code",
   "execution_count": 3,
   "id": "c56a9486",
   "metadata": {},
   "outputs": [
    {
     "data": {
      "text/html": [
       "<div>\n",
       "<style scoped>\n",
       "    .dataframe tbody tr th:only-of-type {\n",
       "        vertical-align: middle;\n",
       "    }\n",
       "\n",
       "    .dataframe tbody tr th {\n",
       "        vertical-align: top;\n",
       "    }\n",
       "\n",
       "    .dataframe thead th {\n",
       "        text-align: right;\n",
       "    }\n",
       "</style>\n",
       "<table border=\"1\" class=\"dataframe\">\n",
       "  <thead>\n",
       "    <tr style=\"text-align: right;\">\n",
       "      <th></th>\n",
       "      <th>item_id</th>\n",
       "      <th>category_level_1</th>\n",
       "      <th>category_level_2</th>\n",
       "      <th>category_level_3</th>\n",
       "      <th>category_level_4</th>\n",
       "      <th>category_level_5</th>\n",
       "      <th>category_level_6</th>\n",
       "      <th>category_level_7</th>\n",
       "    </tr>\n",
       "  </thead>\n",
       "  <tbody>\n",
       "    <tr>\n",
       "      <th>0</th>\n",
       "      <td>61b0b8fc4ce3c40008bf94b5</td>\n",
       "      <td>Food / Beverages</td>\n",
       "      <td>Frozen Foods</td>\n",
       "      <td>Meals (Frozen)</td>\n",
       "      <td>NaN</td>\n",
       "      <td>NaN</td>\n",
       "      <td>NaN</td>\n",
       "      <td>NaN</td>\n",
       "    </tr>\n",
       "    <tr>\n",
       "      <th>1</th>\n",
       "      <td>61acc46e244643000aabe8f1</td>\n",
       "      <td>Food / Beverages</td>\n",
       "      <td>Dairy &amp; Egg Products</td>\n",
       "      <td>Cheeses</td>\n",
       "      <td>NaN</td>\n",
       "      <td>NaN</td>\n",
       "      <td>NaN</td>\n",
       "      <td>NaN</td>\n",
       "    </tr>\n",
       "    <tr>\n",
       "      <th>2</th>\n",
       "      <td>619e4484abc5600008f0d530</td>\n",
       "      <td>categoryNotFound</td>\n",
       "      <td>NaN</td>\n",
       "      <td>NaN</td>\n",
       "      <td>NaN</td>\n",
       "      <td>NaN</td>\n",
       "      <td>NaN</td>\n",
       "      <td>NaN</td>\n",
       "    </tr>\n",
       "    <tr>\n",
       "      <th>3</th>\n",
       "      <td>61a238616296b40008d37ee2</td>\n",
       "      <td>Food / Beverages</td>\n",
       "      <td>Produce</td>\n",
       "      <td>Prepared Fruits / Vegetables</td>\n",
       "      <td>NaN</td>\n",
       "      <td>NaN</td>\n",
       "      <td>NaN</td>\n",
       "      <td>NaN</td>\n",
       "    </tr>\n",
       "    <tr>\n",
       "      <th>4</th>\n",
       "      <td>619e43edabc5600008f0d2b4</td>\n",
       "      <td>Food / Beverages</td>\n",
       "      <td>Grocery</td>\n",
       "      <td>Condiments</td>\n",
       "      <td>Sauces / Dressings / Dips</td>\n",
       "      <td>Sauces (Shelf-Stable)</td>\n",
       "      <td>NaN</td>\n",
       "      <td>NaN</td>\n",
       "    </tr>\n",
       "  </tbody>\n",
       "</table>\n",
       "</div>"
      ],
      "text/plain": [
       "                    item_id    category_level_1        category_level_2  \\\n",
       "0  61b0b8fc4ce3c40008bf94b5   Food / Beverages            Frozen Foods    \n",
       "1  61acc46e244643000aabe8f1   Food / Beverages    Dairy & Egg Products    \n",
       "2  619e4484abc5600008f0d530    categoryNotFound                     NaN   \n",
       "3  61a238616296b40008d37ee2   Food / Beverages                 Produce    \n",
       "4  619e43edabc5600008f0d2b4   Food / Beverages                 Grocery    \n",
       "\n",
       "                 category_level_3             category_level_4  \\\n",
       "0                 Meals (Frozen)                           NaN   \n",
       "1                        Cheeses                           NaN   \n",
       "2                             NaN                          NaN   \n",
       "3   Prepared Fruits / Vegetables                           NaN   \n",
       "4                     Condiments    Sauces / Dressings / Dips    \n",
       "\n",
       "          category_level_5 category_level_6 category_level_7  \n",
       "0                      NaN              NaN              NaN  \n",
       "1                      NaN              NaN              NaN  \n",
       "2                      NaN              NaN              NaN  \n",
       "3                      NaN              NaN              NaN  \n",
       "4   Sauces (Shelf-Stable)               NaN              NaN  "
      ]
     },
     "execution_count": 3,
     "metadata": {},
     "output_type": "execute_result"
    }
   ],
   "source": [
    "df_category = pd.read_csv('product_categories_v2.csv')\n",
    "df_category.head()"
   ]
  },
  {
   "cell_type": "code",
   "execution_count": 4,
   "id": "0db4e824",
   "metadata": {},
   "outputs": [],
   "source": [
    "# drop item id column\n",
    "df = df_category.drop(columns='item_id').drop_duplicates()\n",
    "# strip whitespaces of categories\n",
    "for col in df.columns:\n",
    "    df[col] = df[col].str.strip()"
   ]
  },
  {
   "cell_type": "code",
   "execution_count": 5,
   "id": "2f3a781c",
   "metadata": {
    "scrolled": true
   },
   "outputs": [
    {
     "data": {
      "text/plain": [
       "['Food / Beverages', 'Beer / Wine / Spirits']"
      ]
     },
     "execution_count": 5,
     "metadata": {},
     "output_type": "execute_result"
    }
   ],
   "source": [
    "# get hierarchy of categories\n",
    "# {level: {parent_cat: [child_cats]}}\n",
    "cat_levels = df.columns\n",
    "cat_tree = {}\n",
    "for level in range(1, 7):\n",
    "    level_str = 'category_level_' + str(level)\n",
    "    cat_tree[level_str] = {key: [] for key in df[level_str].unique() if key not in ['categoryNotFound', np.nan]}\n",
    "    dict_cats = cat_tree[level_str]\n",
    "    for parent in dict_cats.keys():\n",
    "        dict_cats[parent] = df[df[level_str] == parent]['category_level_' + str(level+1)].unique().tolist()\n",
    "    \n",
    "list(cat_tree['category_level_1'].keys())"
   ]
  },
  {
   "cell_type": "code",
   "execution_count": 6,
   "id": "9bc6ec47",
   "metadata": {},
   "outputs": [
    {
     "data": {
      "text/plain": [
       "(['Condiments',\n",
       "  'Snack Foods',\n",
       "  'Nuts & Seeds',\n",
       "  'Seasonings / Preservatives / Extracts',\n",
       "  'Breads / Cereals / Grains',\n",
       "  'Prepared & Preserved Foods',\n",
       "  'Beans, Peas, & Lentils',\n",
       "  'Vegetables (Shelf Stable)',\n",
       "  'Fats & Oils',\n",
       "  'Dietary Supplement Foods',\n",
       "  'Confectionery / Desserts / Sweeteners',\n",
       "  'Meat / Poultry / Seafood',\n",
       "  'Fruits',\n",
       "  'Baking & Cooking',\n",
       "  'Pasta / Noodles',\n",
       "  'Non-Supplement Nutritional Foods'],\n",
       " 'category_level_2')"
      ]
     },
     "execution_count": 6,
     "metadata": {},
     "output_type": "execute_result"
    }
   ],
   "source": [
    "def get_subcats(parent):\n",
    "    '''\n",
    "    given a category of any level, list all its sub-categories.\n",
    "    '''\n",
    "    for level_str, dict_cat in cat_tree.items():\n",
    "        if parent in dict_cat.keys():\n",
    "            return list(dict_cat[parent]), level_str\n",
    "    print('Category not found')\n",
    "    \n",
    "get_subcats('Grocery')"
   ]
  },
  {
   "cell_type": "code",
   "execution_count": 7,
   "id": "30571bd9",
   "metadata": {},
   "outputs": [
    {
     "name": "stdout",
     "output_type": "stream",
     "text": [
      "Food / Beverages > Grocery > Condiments > Sauces / Dressings / Dips > Sauces (Shelf-Stable)\n"
     ]
    }
   ],
   "source": [
    "def trace_cats(child):\n",
    "    '''\n",
    "    given a category of any level, trace all its parent categories.\n",
    "    '''\n",
    "    for level_str, dict_cat in cat_tree.items():\n",
    "        if child in dict_cat.keys():\n",
    "            level = int(level_str[-1])\n",
    "            cat_str = child\n",
    "            lst_cats = [child]\n",
    "            while level >= 2:\n",
    "                # find its parent\n",
    "                level -= 1\n",
    "                level_str_prev = 'category_level_' + str(level)\n",
    "                dict_cat_prev = cat_tree[level_str_prev]\n",
    "                for parent, cats in dict_cat_prev.items():\n",
    "                    if child in cats:\n",
    "                        cat_str = parent + ' > ' + cat_str\n",
    "                        lst_cats = [parent] + lst_cats\n",
    "                        child = parent\n",
    "                        \n",
    "            return cat_str, lst_cats\n",
    "\n",
    "cat_str, lst_cats = trace_cats('Sauces (Shelf-Stable)')\n",
    "print(cat_str)"
   ]
  },
  {
   "cell_type": "code",
   "execution_count": 8,
   "id": "f5eebac3",
   "metadata": {},
   "outputs": [
    {
     "data": {
      "text/plain": [
       "(['Coffee',\n",
       "  'Water',\n",
       "  'Soda / Flavored Drinks',\n",
       "  'Fruit & Vegetable Drinks',\n",
       "  'Drink Mixes & Flavorings',\n",
       "  'Dairy-Based Drinks (Shelf-Stable)',\n",
       "  'Tea',\n",
       "  'Dairy Substitute Based Drinks (Shelf Stable)',\n",
       "  'Energy Drinks',\n",
       "  'Coffee / Tea Variety Packs',\n",
       "  'Sports Drinks',\n",
       "  'Cocktail Mixers',\n",
       "  'Fermented Beverages',\n",
       "  'Infant & Toddler Beverages'],\n",
       " 'category_level_2')"
      ]
     },
     "execution_count": 8,
     "metadata": {},
     "output_type": "execute_result"
    }
   ],
   "source": [
    "get_subcats('Beverages')"
   ]
  },
  {
   "cell_type": "markdown",
   "id": "668e01a0",
   "metadata": {},
   "source": [
    "### Good categories: \n",
    "* Grocery: Snack Foods, Nuts & Seeds, Dietary Supplement Foods, Non-Supplement Nutritional Foods\n",
    "* Beverages: Coffee, Water, Soda / Flavored Drinks, Fruit & Vegetable Drinks, Drink Mixes & Flavorings, Dairy-Based Drinks (Shelf-Stable), Tea, Dairy Substitute Based Drinks (Shelf Stable), Energy Drinks, Coffee / Tea Variety Packs, Sports Drinks"
   ]
  },
  {
   "cell_type": "code",
   "execution_count": null,
   "id": "01808a10",
   "metadata": {},
   "outputs": [],
   "source": []
  }
 ],
 "metadata": {
  "kernelspec": {
   "display_name": "Python 3 (ipykernel)",
   "language": "python",
   "name": "python3"
  },
  "language_info": {
   "codemirror_mode": {
    "name": "ipython",
    "version": 3
   },
   "file_extension": ".py",
   "mimetype": "text/x-python",
   "name": "python",
   "nbconvert_exporter": "python",
   "pygments_lexer": "ipython3",
   "version": "3.8.8"
  }
 },
 "nbformat": 4,
 "nbformat_minor": 5
}
