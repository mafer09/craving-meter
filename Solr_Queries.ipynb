{
 "cells": [
  {
   "cell_type": "code",
   "execution_count": 33,
   "id": "5acf876d",
   "metadata": {},
   "outputs": [],
   "source": [
    "import requests\n",
    "import json\n",
    "import pysolr"
   ]
  },
  {
   "cell_type": "code",
   "execution_count": 44,
   "id": "97722906",
   "metadata": {},
   "outputs": [],
   "source": [
    "URL = 'http://localhost:8983/solr/craving/'"
   ]
  },
  {
   "cell_type": "markdown",
   "id": "900ee3cd",
   "metadata": {},
   "source": [
    "## Using Pysolr"
   ]
  },
  {
   "cell_type": "code",
   "execution_count": 49,
   "id": "5d2534d2",
   "metadata": {
    "scrolled": false
   },
   "outputs": [
    {
     "name": "stdout",
     "output_type": "stream",
     "text": [
      "{\n",
      "  \"responseHeader\":{\n",
      "    \"zkConnected\":null,\n",
      "    \"status\":0,\n",
      "    \"QTime\":1,\n",
      "    \"params\":{\n",
      "      \"q\":\"{!lucene}*:*\",\n",
      "      \"distrib\":\"false\",\n",
      "      \"df\":\"_text_\",\n",
      "      \"rows\":\"10\",\n",
      "      \"echoParams\":\"all\",\n",
      "      \"rid\":\"-238\"}},\n",
      "  \"status\":\"OK\"}\n",
      "\n"
     ]
    }
   ],
   "source": [
    "# health check\n",
    "solr = pysolr.Solr(URL, always_commit=True)\n",
    "print(solr.ping())"
   ]
  },
  {
   "cell_type": "code",
   "execution_count": 61,
   "id": "e373af72",
   "metadata": {},
   "outputs": [
    {
     "name": "stdout",
     "output_type": "stream",
     "text": [
      "Returned 10 result(s).\n",
      "The item name is '['Soft Dipped Vanilla Ice Cream Bars']'.\n",
      "The item name is '['Vanilla Ice Cream Bars, Soft Dipped']'.\n",
      "The item name is '['Vanilla Ice Cream Cookie Squares']'.\n",
      "The item name is '['Vanilla Ice Cream']'.\n",
      "The item name is '['Vanilla Ice Cream, Cookies & Cream']'.\n",
      "The item name is '['Vanilla Ice Cream, Cookie Dough']'.\n",
      "The item name is '['Philly Vanilla Ice Cream']'.\n",
      "The item name is '['Vanilla Ice Cream Sandwich']'.\n",
      "The item name is '['Vanilla Ice Cream Cup']'.\n",
      "The item name is '['Vanilla Ice Cream Sandwich']'.\n"
     ]
    }
   ],
   "source": [
    "# query\n",
    "results = solr.search('\\\"vanilla ice cream\\\"')\n",
    "print(\"Returned {0} result(s).\".format(len(results)))\n",
    "for result in results:\n",
    "    print(\"The item name is '{0}'.\".format(result['fields.item_name']))"
   ]
  },
  {
   "cell_type": "code",
   "execution_count": null,
   "id": "047ff8f1",
   "metadata": {},
   "outputs": [],
   "source": [
    "# delete individual files by id\n",
    "# solr.delete(id='f121af0a-6af0-47c7-8836-ff19f9b3d43b')\n",
    "\n",
    "# delete individual files by query\n",
    "# solr.delete(q='*')"
   ]
  },
  {
   "cell_type": "markdown",
   "id": "17987d2a",
   "metadata": {},
   "source": [
    "## Using Requests"
   ]
  },
  {
   "cell_type": "code",
   "execution_count": 57,
   "id": "b15fb04c",
   "metadata": {},
   "outputs": [
    {
     "data": {
      "text/plain": [
       "{'responseHeader': {'zkConnected': None,\n",
       "  'status': 0,\n",
       "  'QTime': 1,\n",
       "  'params': {'q': '{!lucene}*:*',\n",
       "   'distrib': 'false',\n",
       "   'df': '_text_',\n",
       "   'rows': '10',\n",
       "   'echoParams': 'all',\n",
       "   'rid': '-247'}},\n",
       " 'status': 'OK'}"
      ]
     },
     "execution_count": 57,
     "metadata": {},
     "output_type": "execute_result"
    }
   ],
   "source": [
    "# health check\n",
    "response = requests.get(URL+'admin/ping')\n",
    "response.json()"
   ]
  },
  {
   "cell_type": "code",
   "execution_count": 102,
   "id": "9db351ec",
   "metadata": {
    "scrolled": false
   },
   "outputs": [
    {
     "data": {
      "text/plain": [
       "{'responseHeader': {'status': 0,\n",
       "  'QTime': 5,\n",
       "  'params': {'json': '{\"query\": \"fields.brand_name:glico, fields.item_name:pocky\", \"limit\": 5, \"fields\": \"fields.item_name, fields.nf_sugars\", \"sort\": \"fields.nf_sugars desc\"}'}},\n",
       " 'response': {'numFound': 59,\n",
       "  'start': 0,\n",
       "  'numFoundExact': True,\n",
       "  'docs': [{'fields.item_name': ['Pocky Biscuits, Chocolate'],\n",
       "    'fields.nf_sugars': [26]},\n",
       "   {'fields.item_name': ['Pocky, Biscuit Sticks, Milk Chocolate Cream'],\n",
       "    'fields.nf_sugars': [25]},\n",
       "   {'fields.item_name': ['Almond Peak'], 'fields.nf_sugars': [25]},\n",
       "   {'fields.item_name': ['Pocky Matcha Green Tea Cream Covered Biscuit Sticks'],\n",
       "    'fields.nf_sugars': [24]},\n",
       "   {'fields.item_name': ['Kobe Roasted Chocolate Snack'],\n",
       "    'fields.nf_sugars': [24]}]}}"
      ]
     },
     "execution_count": 102,
     "metadata": {},
     "output_type": "execute_result"
    }
   ],
   "source": [
    "# query\n",
    "# JSON field: https://solr.apache.org/guide/8_11/json-request-api.html\n",
    "payload = json.dumps({\n",
    "    'query': 'fields.brand_name:glico, fields.item_name:pocky',   \n",
    "    'limit': 5,\n",
    "    'fields': 'fields.item_name, fields.nf_sugars',\n",
    "    'sort': 'fields.nf_sugars desc'\n",
    "    })\n",
    "headers = {'Content-Type': 'application/json'}\n",
    "response = requests.request(\"POST\", URL+'query', headers=headers, data=payload)\n",
    "response.json()"
   ]
  },
  {
   "cell_type": "code",
   "execution_count": null,
   "id": "dbbf42ac",
   "metadata": {},
   "outputs": [],
   "source": []
  }
 ],
 "metadata": {
  "kernelspec": {
   "display_name": "Python 3 (ipykernel)",
   "language": "python",
   "name": "python3"
  },
  "language_info": {
   "codemirror_mode": {
    "name": "ipython",
    "version": 3
   },
   "file_extension": ".py",
   "mimetype": "text/x-python",
   "name": "python",
   "nbconvert_exporter": "python",
   "pygments_lexer": "ipython3",
   "version": "3.8.8"
  }
 },
 "nbformat": 4,
 "nbformat_minor": 5
}
